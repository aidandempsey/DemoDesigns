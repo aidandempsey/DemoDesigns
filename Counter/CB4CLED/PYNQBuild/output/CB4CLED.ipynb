{
 "cells": [
  {
   "cell_type": "markdown",
   "id": "26c18efc",
   "metadata": {},
   "source": [
    "# 4-bit cascadable, loadable, up/down counter, with asynchronpous rst"
   ]
  },
  {
   "cell_type": "markdown",
   "id": "4741bec3",
   "metadata": {},
   "source": [
    "#### Python Environment Set Up"
   ]
  },
  {
   "cell_type": "code",
   "execution_count": null,
   "id": "7d37ba21",
   "metadata": {},
   "outputs": [],
   "source": [
    "%run CB4CLED.py"
   ]
  },
  {
   "cell_type": "markdown",
   "id": "039c179b",
   "metadata": {},
   "source": [
    "## Component Description\n",
    "\n",
    "If load = 1&#44; synchronously loads count = loadDat&#10;else if ce  = 1&#44; synchronously&#10;  if up = 1&#44; counts up&#10;  else counts down&#10;&#10;TC terminal count combinationally asserted when &#10; up = 1 and count = 0xf (0d15)   or&#10; up = 0 and count = 0 &#10;&#10;ceo count enable output combinationally asserted when &#10; ce = 1 and TC = 1"
   ]
  },
  {
   "cell_type": "markdown",
   "id": "e47ca56b",
   "metadata": {},
   "source": [
    "## Entity I/O\n",
    "\n",
    "| Name | Mode | Type | Description |\n",
    "|:----:|:----:|:----:|:------------|\n",
    "| clk | in | single bit | System clk strobe&#44; rising edge active |\n",
    "| rst | in | single bit | Asynchronous rst signal&#44; asserted high |\n",
    "| load | in | single bit | Assertion (h) synchronously loads loadDat(3:0) in count(3:0)&#10;Signal load has priority over ce (chip enable) |\n",
    "| loadDat | in | bus(3 downto 0) | 4-bit load data |\n",
    "| ce | in | single bit | Assertion (h) enables synchronous counting (when load is &#10;deasserted) |\n",
    "| up | in | single bit | Assert (h) for up counting mode. \n",
    "&#10;Deassert for down counting mode. |\n",
    "| count | out | bus(3 downto 0) | Counter 4-bit output&#10;Value rolls over 0f to 0 in count up mode  &#10;Value rolls over 0 to 0f in count down mode |\n",
    "| TC | out | single bit | Terminal count&#44; asserted when &#10;up = 1 and count = 0xf (0d15) or &#10;up = 0 and count = 0 |\n",
    "| ceo | out | single bit | Count enable output&#44; asserted when ce = 1 and TC = 1 |"
   ]
  },
  {
   "cell_type": "markdown",
   "id": "0e4a1b14",
   "metadata": {},
   "source": [
    "## IO Visualised\n",
    "\n",
    "\n",
    "| PYNQ I/O | Component Signal |\n",
    "|:----:|:----:|\n",
    "| led0 | count[0] |\n",
    "| led1 | count[1] |\n",
    "| led2 | count[2] |\n",
    "| led3 | count[3] |"
   ]
  },
  {
   "cell_type": "code",
   "execution_count": null,
   "id": "2e88c462",
   "metadata": {},
   "outputs": [],
   "source": [
    "display(generate_io_gui())"
   ]
  },
  {
   "cell_type": "markdown",
   "id": "e3f8d03d",
   "metadata": {},
   "source": [
    "## Component Controller"
   ]
  },
  {
   "cell_type": "code",
   "execution_count": null,
   "id": "3554a2da",
   "metadata": {},
   "outputs": [],
   "source": [
    "display(generate_gui(svg_content))"
   ]
  },
  {
   "cell_type": "markdown",
   "id": "bbfdd3f3",
   "metadata": {},
   "source": [
    "# Test Plan"
   ]
  },
  {
   "cell_type": "markdown",
   "id": "07946a6f",
   "metadata": {},
   "source": [
    "| Signals | load | loadDat | ce | up | count | TC | ceo | Delay | TestNo | Note | \n",
    "|:----:|:----:|:----:|:----:|:----:|:----:|:----:|:----:|:----:|:----:|:----:|\n",
    "| Mode | in | in | in | in | out | out | out | None | None | None | \n",
    "| Radix | 1'b | 4'h | 1'b | 1'b | 4'h | 1'b | 1'b | None | None | None | \n",
    "|  | 1 | d | 0 | 0 | d | 0 | 0 | 1 | 1 | load 0xd | \n",
    "|  | 0 | d | 1 | 1 | f | 1 | 1 | 2 | 2 | 0xf, TC and ceo asserted | \n",
    "|  | 0 | d | 0 | 1 | f | 1 | 0 | 1 | 3 | 0xf, TC asserted, ceo deasserted | \n",
    "|  | 0 | d | 1 | 1 | 1 | 0 | 0 | 2 | 4 | count increments to 0, ,then to 1 | \n",
    "|  | 0 | d | 1 | 0 | 0 | 1 | 1 | 1 | 5 | count down to 0, TC and ceo asserted | \n",
    "|  | 0 | d | 0 | 0 | 0 | 1 | 0 | 1 | 6 | 0, TC asserted, ceo deasserted | \n",
    "|  | 0 | d | 1 | 0 | f | 0 | 0 | 1 | 7 | count own to 0xf | \n",
    "|  | 0 | d | 1 | 0 | 0 | 1 | 1 | 15 | 8 | 0, TC and ceo asserted | "
   ]
  },
  {
   "cell_type": "markdown",
   "id": "a8a9636a",
   "metadata": {},
   "source": [
    "## Test Case: 0\n",
    "\n",
    "| Signals | load | loadDat | ce | up | count | TC | ceo | Delay | TestNo | Note | \n",
    "|:----:|:----:|:----:|:----:|:----:|:----:|:----:|:----:|:----:|:----:|:----:|\n",
    "| Mode | in | in | in | in | out | out | out | None | None | None | \n",
    "| Radix | 1'b | 4'h | 1'b | 1'b | 4'h | 1'b | 1'b | None | None | None | \n",
    "|  | 1 | d | 0 | 0 | d | 0 | 0 | 1 | 1 | load 0xd | "
   ]
  },
  {
   "cell_type": "code",
   "execution_count": null,
   "id": "82c62089",
   "metadata": {},
   "outputs": [],
   "source": [
    "# Asserting Inputs\n",
    "load.write(0, int(\"1\", 2))\n",
    "loadDat.write(0, int(\"d\", 16))\n",
    "ce.write(0, int(\"0\", 2))\n",
    "up.write(0, int(\"0\", 2))\n",
    "\n",
    "run_clock_pulse()\n",
    "\n",
    "# Recording Outputs\n",
    "save_and_print_test(0)"
   ]
  },
  {
   "cell_type": "markdown",
   "id": "7f6e5d24",
   "metadata": {},
   "source": [
    "## Test Case: 1\n",
    "\n",
    "| Signals | load | loadDat | ce | up | count | TC | ceo | Delay | TestNo | Note | \n",
    "|:----:|:----:|:----:|:----:|:----:|:----:|:----:|:----:|:----:|:----:|:----:|\n",
    "| Mode | in | in | in | in | out | out | out | None | None | None | \n",
    "| Radix | 1'b | 4'h | 1'b | 1'b | 4'h | 1'b | 1'b | None | None | None | \n",
    "|  | 0 | d | 1 | 1 | f | 1 | 1 | 2 | 2 | 0xf, TC and ceo asserted | "
   ]
  },
  {
   "cell_type": "code",
   "execution_count": null,
   "id": "19ef9d5e",
   "metadata": {},
   "outputs": [],
   "source": [
    "# Asserting Inputs\n",
    "load.write(0, int(\"0\", 2))\n",
    "loadDat.write(0, int(\"d\", 16))\n",
    "ce.write(0, int(\"1\", 2))\n",
    "up.write(0, int(\"1\", 2))\n",
    "\n",
    "run_clock_pulse()\n",
    "run_clock_pulse()\n",
    "\n",
    "# Recording Outputs\n",
    "save_and_print_test(1)"
   ]
  },
  {
   "cell_type": "markdown",
   "id": "afb0591f",
   "metadata": {},
   "source": [
    "## Test Case: 2\n",
    "\n",
    "| Signals | load | loadDat | ce | up | count | TC | ceo | Delay | TestNo | Note | \n",
    "|:----:|:----:|:----:|:----:|:----:|:----:|:----:|:----:|:----:|:----:|:----:|\n",
    "| Mode | in | in | in | in | out | out | out | None | None | None | \n",
    "| Radix | 1'b | 4'h | 1'b | 1'b | 4'h | 1'b | 1'b | None | None | None | \n",
    "|  | 0 | d | 0 | 1 | f | 1 | 0 | 1 | 3 | 0xf, TC asserted, ceo deasserted | "
   ]
  },
  {
   "cell_type": "code",
   "execution_count": null,
   "id": "8953a2b6",
   "metadata": {},
   "outputs": [],
   "source": [
    "# Asserting Inputs\n",
    "load.write(0, int(\"0\", 2))\n",
    "loadDat.write(0, int(\"d\", 16))\n",
    "ce.write(0, int(\"0\", 2))\n",
    "up.write(0, int(\"1\", 2))\n",
    "\n",
    "run_clock_pulse()\n",
    "\n",
    "# Recording Outputs\n",
    "save_and_print_test(2)"
   ]
  },
  {
   "cell_type": "markdown",
   "id": "ca3a166b",
   "metadata": {},
   "source": [
    "## Test Case: 3\n",
    "\n",
    "| Signals | load | loadDat | ce | up | count | TC | ceo | Delay | TestNo | Note | \n",
    "|:----:|:----:|:----:|:----:|:----:|:----:|:----:|:----:|:----:|:----:|:----:|\n",
    "| Mode | in | in | in | in | out | out | out | None | None | None | \n",
    "| Radix | 1'b | 4'h | 1'b | 1'b | 4'h | 1'b | 1'b | None | None | None | \n",
    "|  | 0 | d | 1 | 1 | 1 | 0 | 0 | 2 | 4 | count increments to 0, ,then to 1 | "
   ]
  },
  {
   "cell_type": "code",
   "execution_count": null,
   "id": "c69175ce",
   "metadata": {},
   "outputs": [],
   "source": [
    "# Asserting Inputs\n",
    "load.write(0, int(\"0\", 2))\n",
    "loadDat.write(0, int(\"d\", 16))\n",
    "ce.write(0, int(\"1\", 2))\n",
    "up.write(0, int(\"1\", 2))\n",
    "\n",
    "run_clock_pulse()\n",
    "run_clock_pulse()\n",
    "\n",
    "# Recording Outputs\n",
    "save_and_print_test(3)"
   ]
  },
  {
   "cell_type": "markdown",
   "id": "ea7d82b0",
   "metadata": {},
   "source": [
    "## Test Case: 4\n",
    "\n",
    "| Signals | load | loadDat | ce | up | count | TC | ceo | Delay | TestNo | Note | \n",
    "|:----:|:----:|:----:|:----:|:----:|:----:|:----:|:----:|:----:|:----:|:----:|\n",
    "| Mode | in | in | in | in | out | out | out | None | None | None | \n",
    "| Radix | 1'b | 4'h | 1'b | 1'b | 4'h | 1'b | 1'b | None | None | None | \n",
    "|  | 0 | d | 1 | 0 | 0 | 1 | 1 | 1 | 5 | count down to 0, TC and ceo asserted | "
   ]
  },
  {
   "cell_type": "code",
   "execution_count": null,
   "id": "82ceb980",
   "metadata": {},
   "outputs": [],
   "source": [
    "# Asserting Inputs\n",
    "load.write(0, int(\"0\", 2))\n",
    "loadDat.write(0, int(\"d\", 16))\n",
    "ce.write(0, int(\"1\", 2))\n",
    "up.write(0, int(\"0\", 2))\n",
    "\n",
    "run_clock_pulse()\n",
    "\n",
    "# Recording Outputs\n",
    "save_and_print_test(4)"
   ]
  },
  {
   "cell_type": "markdown",
   "id": "2e8aa594",
   "metadata": {},
   "source": [
    "## Test Case: 5\n",
    "\n",
    "| Signals | load | loadDat | ce | up | count | TC | ceo | Delay | TestNo | Note | \n",
    "|:----:|:----:|:----:|:----:|:----:|:----:|:----:|:----:|:----:|:----:|:----:|\n",
    "| Mode | in | in | in | in | out | out | out | None | None | None | \n",
    "| Radix | 1'b | 4'h | 1'b | 1'b | 4'h | 1'b | 1'b | None | None | None | \n",
    "|  | 0 | d | 0 | 0 | 0 | 1 | 0 | 1 | 6 | 0, TC asserted, ceo deasserted | "
   ]
  },
  {
   "cell_type": "code",
   "execution_count": null,
   "id": "958b0e48",
   "metadata": {},
   "outputs": [],
   "source": [
    "# Asserting Inputs\n",
    "load.write(0, int(\"0\", 2))\n",
    "loadDat.write(0, int(\"d\", 16))\n",
    "ce.write(0, int(\"0\", 2))\n",
    "up.write(0, int(\"0\", 2))\n",
    "\n",
    "run_clock_pulse()\n",
    "\n",
    "# Recording Outputs\n",
    "save_and_print_test(5)"
   ]
  },
  {
   "cell_type": "markdown",
   "id": "f5a7a010",
   "metadata": {},
   "source": [
    "## Test Case: 6\n",
    "\n",
    "| Signals | load | loadDat | ce | up | count | TC | ceo | Delay | TestNo | Note | \n",
    "|:----:|:----:|:----:|:----:|:----:|:----:|:----:|:----:|:----:|:----:|:----:|\n",
    "| Mode | in | in | in | in | out | out | out | None | None | None | \n",
    "| Radix | 1'b | 4'h | 1'b | 1'b | 4'h | 1'b | 1'b | None | None | None | \n",
    "|  | 0 | d | 1 | 0 | f | 0 | 0 | 1 | 7 | count own to 0xf | "
   ]
  },
  {
   "cell_type": "code",
   "execution_count": null,
   "id": "6cbf2f61",
   "metadata": {},
   "outputs": [],
   "source": [
    "# Asserting Inputs\n",
    "load.write(0, int(\"0\", 2))\n",
    "loadDat.write(0, int(\"d\", 16))\n",
    "ce.write(0, int(\"1\", 2))\n",
    "up.write(0, int(\"0\", 2))\n",
    "\n",
    "run_clock_pulse()\n",
    "\n",
    "# Recording Outputs\n",
    "save_and_print_test(6)"
   ]
  },
  {
   "cell_type": "markdown",
   "id": "00842550",
   "metadata": {},
   "source": [
    "## Test Case: 7\n",
    "\n",
    "| Signals | load | loadDat | ce | up | count | TC | ceo | Delay | TestNo | Note | \n",
    "|:----:|:----:|:----:|:----:|:----:|:----:|:----:|:----:|:----:|:----:|:----:|\n",
    "| Mode | in | in | in | in | out | out | out | None | None | None | \n",
    "| Radix | 1'b | 4'h | 1'b | 1'b | 4'h | 1'b | 1'b | None | None | None | \n",
    "|  | 0 | d | 1 | 0 | 0 | 1 | 1 | 15 | 8 | 0, TC and ceo asserted | "
   ]
  },
  {
   "cell_type": "code",
   "execution_count": null,
   "id": "f4dbeb2e",
   "metadata": {},
   "outputs": [],
   "source": [
    "# Asserting Inputs\n",
    "load.write(0, int(\"0\", 2))\n",
    "loadDat.write(0, int(\"d\", 16))\n",
    "ce.write(0, int(\"1\", 2))\n",
    "up.write(0, int(\"0\", 2))\n",
    "\n",
    "run_clock_pulse()\n",
    "run_clock_pulse()\n",
    "run_clock_pulse()\n",
    "run_clock_pulse()\n",
    "run_clock_pulse()\n",
    "run_clock_pulse()\n",
    "run_clock_pulse()\n",
    "run_clock_pulse()\n",
    "run_clock_pulse()\n",
    "run_clock_pulse()\n",
    "run_clock_pulse()\n",
    "run_clock_pulse()\n",
    "run_clock_pulse()\n",
    "run_clock_pulse()\n",
    "run_clock_pulse()\n",
    "\n",
    "# Recording Outputs\n",
    "save_and_print_test(7)"
   ]
  }
 ],
 "metadata": {},
 "nbformat": 4,
 "nbformat_minor": 5
}
