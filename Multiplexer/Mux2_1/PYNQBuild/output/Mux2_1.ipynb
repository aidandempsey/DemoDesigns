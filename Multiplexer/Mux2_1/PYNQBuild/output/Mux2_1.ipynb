{
 "cells": [
  {
   "cell_type": "markdown",
   "id": "078009ab",
   "metadata": {},
   "source": [
    "# 2 to 1 Multiplexer"
   ]
  },
  {
   "cell_type": "markdown",
   "id": "4f02414d",
   "metadata": {},
   "source": [
    "#### Python Environment Set Up"
   ]
  },
  {
   "cell_type": "code",
   "execution_count": null,
   "id": "eb39e195",
   "metadata": {},
   "outputs": [],
   "source": [
    "%run Mux2_1.py"
   ]
  },
  {
   "cell_type": "markdown",
   "id": "651fbe80",
   "metadata": {},
   "source": [
    "## Component Description\n",
    "\n",
    "2 bit in&#44; 1 bit out"
   ]
  },
  {
   "cell_type": "markdown",
   "id": "f821616e",
   "metadata": {},
   "source": [
    "## Entity I/O\n",
    "\n",
    "| Name | Mode | Type | Description |\n",
    "|:----:|:----:|:----:|:------------|\n",
    "| dIn0 | in | single bit | datapath 0 |\n",
    "| dIn1 | in | single bit | datapath 1 |\n",
    "| sel | in | single bit | selector |\n",
    "| dOut | out | single bit | datapath out |"
   ]
  },
  {
   "cell_type": "markdown",
   "id": "e6db67ec",
   "metadata": {},
   "source": [
    "## Component Controller"
   ]
  },
  {
   "cell_type": "code",
   "execution_count": null,
   "id": "9166ca7a",
   "metadata": {},
   "outputs": [],
   "source": [
    "display(generate_gui(svg_content))"
   ]
  },
  {
   "cell_type": "markdown",
   "id": "85838f77",
   "metadata": {},
   "source": [
    "# Test Plan"
   ]
  },
  {
   "cell_type": "markdown",
   "id": "2a0157f6",
   "metadata": {},
   "source": [
    "| Signals | dIn0 | dIn1 | sel | dOut | Delay | TestNo | Note | \n",
    "|:----:|:----:|:----:|:----:|:----:|:----:|:----:|:----:|\n",
    "| Mode | in | in | in | out | None | None | None | \n",
    "| Radix | 1'b | 1'b | 1'b | 1'b | None | None | None | \n",
    "|  | 0 | 1 | 0 | 0 | 1 | 1 | Select Datapath 0 with Value of 0 | \n",
    "|  | 0 | 1 | 1 | 1 | 1 | 2 | Select Datapath 1 with Value of 1 | \n",
    "|  | 1 | 0 | 0 | 1 | 1 | 3 | Select Datapath 0 with Value of 1 | \n",
    "|  | 1 | 0 | 1 | 0 | 1 | 3 | Select Datapath 1 with Value of 0 | "
   ]
  },
  {
   "cell_type": "markdown",
   "id": "c94b3a53",
   "metadata": {},
   "source": [
    "## Test Case: 0\n",
    "\n",
    "| Signals | dIn0 | dIn1 | sel | dOut | Delay | TestNo | Note | \n",
    "|:----:|:----:|:----:|:----:|:----:|:----:|:----:|:----:|\n",
    "| Mode | in | in | in | out | None | None | None | \n",
    "| Radix | 1'b | 1'b | 1'b | 1'b | None | None | None | \n",
    "|  | 0 | 1 | 0 | 0 | 1 | 1 | Select Datapath 0 with Value of 0 | "
   ]
  },
  {
   "cell_type": "code",
   "execution_count": null,
   "id": "11e31a67",
   "metadata": {},
   "outputs": [],
   "source": [
    "# Asserting Inputs\n",
    "dIn0.write(0, int(\"0\", 2))\n",
    "dIn1.write(0, int(\"1\", 2))\n",
    "sel.write(0, int(\"0\", 2))\n",
    "\n",
    "\n",
    "# Recording Outputs\n",
    "save_and_print_test(0)"
   ]
  },
  {
   "cell_type": "markdown",
   "id": "36a8c3ef",
   "metadata": {},
   "source": [
    "## Test Case: 1\n",
    "\n",
    "| Signals | dIn0 | dIn1 | sel | dOut | Delay | TestNo | Note | \n",
    "|:----:|:----:|:----:|:----:|:----:|:----:|:----:|:----:|\n",
    "| Mode | in | in | in | out | None | None | None | \n",
    "| Radix | 1'b | 1'b | 1'b | 1'b | None | None | None | \n",
    "|  | 0 | 1 | 1 | 1 | 1 | 2 | Select Datapath 1 with Value of 1 | "
   ]
  },
  {
   "cell_type": "code",
   "execution_count": null,
   "id": "42f03d8a",
   "metadata": {},
   "outputs": [],
   "source": [
    "# Asserting Inputs\n",
    "dIn0.write(0, int(\"0\", 2))\n",
    "dIn1.write(0, int(\"1\", 2))\n",
    "sel.write(0, int(\"1\", 2))\n",
    "\n",
    "\n",
    "# Recording Outputs\n",
    "save_and_print_test(1)"
   ]
  },
  {
   "cell_type": "markdown",
   "id": "17fdeb7d",
   "metadata": {},
   "source": [
    "## Test Case: 2\n",
    "\n",
    "| Signals | dIn0 | dIn1 | sel | dOut | Delay | TestNo | Note | \n",
    "|:----:|:----:|:----:|:----:|:----:|:----:|:----:|:----:|\n",
    "| Mode | in | in | in | out | None | None | None | \n",
    "| Radix | 1'b | 1'b | 1'b | 1'b | None | None | None | \n",
    "|  | 1 | 0 | 0 | 1 | 1 | 3 | Select Datapath 0 with Value of 1 | "
   ]
  },
  {
   "cell_type": "code",
   "execution_count": null,
   "id": "8636dba2",
   "metadata": {},
   "outputs": [],
   "source": [
    "# Asserting Inputs\n",
    "dIn0.write(0, int(\"1\", 2))\n",
    "dIn1.write(0, int(\"0\", 2))\n",
    "sel.write(0, int(\"0\", 2))\n",
    "\n",
    "\n",
    "# Recording Outputs\n",
    "save_and_print_test(2)"
   ]
  },
  {
   "cell_type": "markdown",
   "id": "a663ca1d",
   "metadata": {},
   "source": [
    "## Test Case: 3\n",
    "\n",
    "| Signals | dIn0 | dIn1 | sel | dOut | Delay | TestNo | Note | \n",
    "|:----:|:----:|:----:|:----:|:----:|:----:|:----:|:----:|\n",
    "| Mode | in | in | in | out | None | None | None | \n",
    "| Radix | 1'b | 1'b | 1'b | 1'b | None | None | None | \n",
    "|  | 1 | 0 | 1 | 0 | 1 | 3 | Select Datapath 1 with Value of 0 | "
   ]
  },
  {
   "cell_type": "code",
   "execution_count": null,
   "id": "03b5fc8a",
   "metadata": {},
   "outputs": [],
   "source": [
    "# Asserting Inputs\n",
    "dIn0.write(0, int(\"1\", 2))\n",
    "dIn1.write(0, int(\"0\", 2))\n",
    "sel.write(0, int(\"1\", 2))\n",
    "\n",
    "\n",
    "# Recording Outputs\n",
    "save_and_print_test(3)"
   ]
  }
 ],
 "metadata": {},
 "nbformat": 4,
 "nbformat_minor": 5
}
