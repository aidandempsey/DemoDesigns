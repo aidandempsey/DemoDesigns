{
 "cells": [
  {
   "cell_type": "markdown",
   "id": "15084f9c",
   "metadata": {},
   "source": [
    "# RV32I RISC-V Arithmetic Logic Unit (ALU)"
   ]
  },
  {
   "cell_type": "markdown",
   "id": "14219460",
   "metadata": {},
   "source": [
    "#### Python Environment Set Up"
   ]
  },
  {
   "cell_type": "code",
   "execution_count": null,
   "id": "6b7388b6",
   "metadata": {},
   "outputs": [],
   "source": [
    "%run RISCV_ALU.py"
   ]
  },
  {
   "cell_type": "markdown",
   "id": "0d3754d1",
   "metadata": {},
   "source": [
    "## Component Description\n",
    "\n",
    "RISC-V Arithmetic Logic Unit (RISCV_ALU) &#10;&#10;Combinational logic component&#10;Input signal selALUOp(3:0) selects ALU function.&#10;32-bit data inputs A&#44; B&#10;32-bit data output ALUOut&#10;Output signal branch&#44; asserted when branch condition is true"
   ]
  },
  {
   "cell_type": "markdown",
   "id": "63a49c9f",
   "metadata": {},
   "source": [
    "## Entity I/O\n",
    "\n",
    "| Name | Mode | Type | Description |\n",
    "|:----:|:----:|:----:|:------------|\n",
    "| selALUOp | in | bus(3 downto 0) | ALU control signal |\n",
    "| A | in | bus(31 downto 0) | ALU data input A |\n",
    "| B | in | bus(31 downto 0) | ALU data input B |\n",
    "| ALUOut | out | bus(31 downto 0) | ALU data output |\n",
    "| branch | out | single bit | Asserted (h) for branch operation (selALOp(3:0) = 10-15, if &#10;branch condition check is true |"
   ]
  },
  {
   "cell_type": "markdown",
   "id": "4c763c58",
   "metadata": {},
   "source": [
    "## IO Visualised\n",
    "\n",
    "\n",
    "| PYNQ I/O | Component Signal |\n",
    "|:----:|:----:|\n",
    "| led0 | selALUOp[0] |\n",
    "| led1 | selALUOp[1] |\n",
    "| led2 | selALUOp[2] |\n",
    "| led3 | selALUOp[3] |"
   ]
  },
  {
   "cell_type": "code",
   "execution_count": null,
   "id": "b8c495c0",
   "metadata": {},
   "outputs": [],
   "source": [
    "display(generate_io_gui())"
   ]
  },
  {
   "cell_type": "markdown",
   "id": "f246aa01",
   "metadata": {},
   "source": [
    "## Component Controller"
   ]
  },
  {
   "cell_type": "code",
   "execution_count": null,
   "id": "07564e38",
   "metadata": {},
   "outputs": [],
   "source": [
    "display(generate_gui(svg_content))"
   ]
  },
  {
   "cell_type": "markdown",
   "id": "e705319a",
   "metadata": {},
   "source": [
    "# Test Plan"
   ]
  },
  {
   "cell_type": "markdown",
   "id": "e8a886dd",
   "metadata": {},
   "source": [
    "| Signals | selALUOp | A | B | ALUOut | branch | Delay | TestNo | Note | \n",
    "|:----:|:----:|:----:|:----:|:----:|:----:|:----:|:----:|:----:|\n",
    "| Mode | in | in | in | out | out | None | None | None | \n",
    "| Radix | 4'b | 32'h | 32'h | 32'h | 1'b | None | None | None | \n",
    "|  | 0000 | 5a5a5a5a | 15a5a5a6 | 70000000 | 0 | 1 | 1 | sgnA + sgnB | \n",
    "|  | 0000 | 15a5a5a6 | 5a5a5a5a | 70000000 | 0 | 1 | 2 | sgnA + sgnB | \n",
    "|  | 0000 | ffffffff | 40000000 | 3fffffff | 0 | 1 | 3 |  | \n",
    "|  | 0001 | ffffffff | fffffffe | 00000001 | 0 | 1 | 4 | sgnA - sgnB | \n",
    "|  | 0010 | f0c3a596 | 1f7e8ab4 | 10428094 | 0 | 1 | 5 | A and B | \n",
    "|  | 0011 | f0c3a596 | 1f7e8ab4 | ffffafb6 | 0 | 1 | 6 | A or B | \n",
    "|  | 0100 | f0c3a596 | 1f7e8ab4 | efbd2f22 | 0 | 1 | 7 | A xor B | \n",
    "|  | 0101 | f0c3a596 | 00000008 | c3a59600 | 0 | 1 | 8 | A << B(4:0) shift left logical | \n",
    "|  | 0110 | f0c3a596 | 00000008 | 00f0c3a5 | 0 | 1 | 9 | A >> B(4:0) shift right logical | \n",
    "|  | 0111 | f0c3a596 | 00000008 | fff0c3a5 | 0 | 1 | 10 | A >>> B(4:0) shift right arithmetic | \n",
    "|  | 1000 | f0c3a596 | 1f7e8ab4 | 00000001 | 0 | 1 | 11 | 1 if sgn A < sgn B | \n",
    "|  | 1001 | f0c3a596 | 1f7e8ab4 | 00000000 | 0 | 1 | 12 | 1 if uns A < uns B | \n",
    "|  | 1010 | f0c3a596 | 1f7e8ab4 | 00000001 | 0 | 1 | 13 | branch = 1 if A = B | \n",
    "|  | 1010 | f0c3a596 | f0c3a596 | 00000002 | 1 | 1 | 14 | branch = 1 if A = B | \n",
    "|  | 1011 | f0c3a596 | 1f7e8ab4 | 00000003 | 1 | 1 | 15 | branch = 1 if A != B | \n",
    "|  | 1011 | f0c3a596 | f0c3a596 | 00000004 | 0 | 1 | 16 |  | \n",
    "|  | 1100 | f0c3a596 | 1f7e8ab4 | 00000005 | 1 | 1 | 17 | branch = 1 if sgn A < sgnB | \n",
    "|  | 1100 | f0c3a596 | f0c3a596 | 00000006 | 0 | 1 | 18 |  | \n",
    "|  | 1101 | f0c3a596 | 1f7e8ab4 | 00000007 | 0 | 1 | 19 | branch = 1 if sgn A >= sgnB | \n",
    "|  | 1101 | f0c3a596 | f0c3a596 | 00000008 | 1 | 1 | 20 |  | \n",
    "|  | 1110 | f0c3a596 | 1f7e8ab4 | 00000009 | 0 | 1 | 21 | branch = 1 if uns A < uns B | \n",
    "|  | 1110 | f0c3a593 | f0c3a596 | 00000010 | 1 | 1 | 22 |  | \n",
    "|  | 1111 | f0c3a596 | 1f7e8ab4 | 00000011 | 1 | 1 | 23 | branch = 1 if uns A >= uns B | \n",
    "|  | 1111 | f0c3a596 | f0c3a596 | 00000012 | 1 | 1 | 24 |  | "
   ]
  },
  {
   "cell_type": "markdown",
   "id": "83a74721",
   "metadata": {},
   "source": [
    "## Test Case: 0\n",
    "\n",
    "| Signals | selALUOp | A | B | ALUOut | branch | Delay | TestNo | Note | \n",
    "|:----:|:----:|:----:|:----:|:----:|:----:|:----:|:----:|:----:|\n",
    "| Mode | in | in | in | out | out | None | None | None | \n",
    "| Radix | 4'b | 32'h | 32'h | 32'h | 1'b | None | None | None | \n",
    "|  | 0000 | 5a5a5a5a | 15a5a5a6 | 70000000 | 0 | 1 | 1 | sgnA + sgnB | "
   ]
  },
  {
   "cell_type": "code",
   "execution_count": null,
   "id": "14dd2ae7",
   "metadata": {},
   "outputs": [],
   "source": [
    "# Asserting Inputs\n",
    "selALUOp.write(0, int(\"0000\", 2))\n",
    "A.write(0, int(\"5a5a5a5a\", 16))\n",
    "B.write(0, int(\"15a5a5a6\", 16))\n",
    "\n",
    "\n",
    "# Recording Outputs\n",
    "save_and_print_test(0)"
   ]
  },
  {
   "cell_type": "markdown",
   "id": "43c92c69",
   "metadata": {},
   "source": [
    "## Test Case: 1\n",
    "\n",
    "| Signals | selALUOp | A | B | ALUOut | branch | Delay | TestNo | Note | \n",
    "|:----:|:----:|:----:|:----:|:----:|:----:|:----:|:----:|:----:|\n",
    "| Mode | in | in | in | out | out | None | None | None | \n",
    "| Radix | 4'b | 32'h | 32'h | 32'h | 1'b | None | None | None | \n",
    "|  | 0000 | 15a5a5a6 | 5a5a5a5a | 70000000 | 0 | 1 | 2 | sgnA + sgnB | "
   ]
  },
  {
   "cell_type": "code",
   "execution_count": null,
   "id": "66bd652b",
   "metadata": {},
   "outputs": [],
   "source": [
    "# Asserting Inputs\n",
    "selALUOp.write(0, int(\"0000\", 2))\n",
    "A.write(0, int(\"15a5a5a6\", 16))\n",
    "B.write(0, int(\"5a5a5a5a\", 16))\n",
    "\n",
    "\n",
    "# Recording Outputs\n",
    "save_and_print_test(1)"
   ]
  },
  {
   "cell_type": "markdown",
   "id": "ec31a6ea",
   "metadata": {},
   "source": [
    "## Test Case: 2\n",
    "\n",
    "| Signals | selALUOp | A | B | ALUOut | branch | Delay | TestNo | Note | \n",
    "|:----:|:----:|:----:|:----:|:----:|:----:|:----:|:----:|:----:|\n",
    "| Mode | in | in | in | out | out | None | None | None | \n",
    "| Radix | 4'b | 32'h | 32'h | 32'h | 1'b | None | None | None | \n",
    "|  | 0000 | ffffffff | 40000000 | 3fffffff | 0 | 1 | 3 |  | "
   ]
  },
  {
   "cell_type": "code",
   "execution_count": null,
   "id": "d77c081d",
   "metadata": {},
   "outputs": [],
   "source": [
    "# Asserting Inputs\n",
    "selALUOp.write(0, int(\"0000\", 2))\n",
    "A.write(0, int(\"ffffffff\", 16))\n",
    "B.write(0, int(\"40000000\", 16))\n",
    "\n",
    "\n",
    "# Recording Outputs\n",
    "save_and_print_test(2)"
   ]
  },
  {
   "cell_type": "markdown",
   "id": "42efa351",
   "metadata": {},
   "source": [
    "## Test Case: 3\n",
    "\n",
    "| Signals | selALUOp | A | B | ALUOut | branch | Delay | TestNo | Note | \n",
    "|:----:|:----:|:----:|:----:|:----:|:----:|:----:|:----:|:----:|\n",
    "| Mode | in | in | in | out | out | None | None | None | \n",
    "| Radix | 4'b | 32'h | 32'h | 32'h | 1'b | None | None | None | \n",
    "|  | 0001 | ffffffff | fffffffe | 00000001 | 0 | 1 | 4 | sgnA - sgnB | "
   ]
  },
  {
   "cell_type": "code",
   "execution_count": null,
   "id": "5f355d44",
   "metadata": {},
   "outputs": [],
   "source": [
    "# Asserting Inputs\n",
    "selALUOp.write(0, int(\"0001\", 2))\n",
    "A.write(0, int(\"ffffffff\", 16))\n",
    "B.write(0, int(\"fffffffe\", 16))\n",
    "\n",
    "\n",
    "# Recording Outputs\n",
    "save_and_print_test(3)"
   ]
  },
  {
   "cell_type": "markdown",
   "id": "1a4da4f7",
   "metadata": {},
   "source": [
    "## Test Case: 4\n",
    "\n",
    "| Signals | selALUOp | A | B | ALUOut | branch | Delay | TestNo | Note | \n",
    "|:----:|:----:|:----:|:----:|:----:|:----:|:----:|:----:|:----:|\n",
    "| Mode | in | in | in | out | out | None | None | None | \n",
    "| Radix | 4'b | 32'h | 32'h | 32'h | 1'b | None | None | None | \n",
    "|  | 0010 | f0c3a596 | 1f7e8ab4 | 10428094 | 0 | 1 | 5 | A and B | "
   ]
  },
  {
   "cell_type": "code",
   "execution_count": null,
   "id": "32341aff",
   "metadata": {},
   "outputs": [],
   "source": [
    "# Asserting Inputs\n",
    "selALUOp.write(0, int(\"0010\", 2))\n",
    "A.write(0, int(\"f0c3a596\", 16))\n",
    "B.write(0, int(\"1f7e8ab4\", 16))\n",
    "\n",
    "\n",
    "# Recording Outputs\n",
    "save_and_print_test(4)"
   ]
  },
  {
   "cell_type": "markdown",
   "id": "50729457",
   "metadata": {},
   "source": [
    "## Test Case: 5\n",
    "\n",
    "| Signals | selALUOp | A | B | ALUOut | branch | Delay | TestNo | Note | \n",
    "|:----:|:----:|:----:|:----:|:----:|:----:|:----:|:----:|:----:|\n",
    "| Mode | in | in | in | out | out | None | None | None | \n",
    "| Radix | 4'b | 32'h | 32'h | 32'h | 1'b | None | None | None | \n",
    "|  | 0011 | f0c3a596 | 1f7e8ab4 | ffffafb6 | 0 | 1 | 6 | A or B | "
   ]
  },
  {
   "cell_type": "code",
   "execution_count": null,
   "id": "7e981159",
   "metadata": {},
   "outputs": [],
   "source": [
    "# Asserting Inputs\n",
    "selALUOp.write(0, int(\"0011\", 2))\n",
    "A.write(0, int(\"f0c3a596\", 16))\n",
    "B.write(0, int(\"1f7e8ab4\", 16))\n",
    "\n",
    "\n",
    "# Recording Outputs\n",
    "save_and_print_test(5)"
   ]
  },
  {
   "cell_type": "markdown",
   "id": "02d6fc9e",
   "metadata": {},
   "source": [
    "## Test Case: 6\n",
    "\n",
    "| Signals | selALUOp | A | B | ALUOut | branch | Delay | TestNo | Note | \n",
    "|:----:|:----:|:----:|:----:|:----:|:----:|:----:|:----:|:----:|\n",
    "| Mode | in | in | in | out | out | None | None | None | \n",
    "| Radix | 4'b | 32'h | 32'h | 32'h | 1'b | None | None | None | \n",
    "|  | 0100 | f0c3a596 | 1f7e8ab4 | efbd2f22 | 0 | 1 | 7 | A xor B | "
   ]
  },
  {
   "cell_type": "code",
   "execution_count": null,
   "id": "35bca2fa",
   "metadata": {},
   "outputs": [],
   "source": [
    "# Asserting Inputs\n",
    "selALUOp.write(0, int(\"0100\", 2))\n",
    "A.write(0, int(\"f0c3a596\", 16))\n",
    "B.write(0, int(\"1f7e8ab4\", 16))\n",
    "\n",
    "\n",
    "# Recording Outputs\n",
    "save_and_print_test(6)"
   ]
  },
  {
   "cell_type": "markdown",
   "id": "d5e879a1",
   "metadata": {},
   "source": [
    "## Test Case: 7\n",
    "\n",
    "| Signals | selALUOp | A | B | ALUOut | branch | Delay | TestNo | Note | \n",
    "|:----:|:----:|:----:|:----:|:----:|:----:|:----:|:----:|:----:|\n",
    "| Mode | in | in | in | out | out | None | None | None | \n",
    "| Radix | 4'b | 32'h | 32'h | 32'h | 1'b | None | None | None | \n",
    "|  | 0101 | f0c3a596 | 00000008 | c3a59600 | 0 | 1 | 8 | A << B(4:0) shift left logical | "
   ]
  },
  {
   "cell_type": "code",
   "execution_count": null,
   "id": "9c21cc01",
   "metadata": {},
   "outputs": [],
   "source": [
    "# Asserting Inputs\n",
    "selALUOp.write(0, int(\"0101\", 2))\n",
    "A.write(0, int(\"f0c3a596\", 16))\n",
    "B.write(0, int(\"00000008\", 16))\n",
    "\n",
    "\n",
    "# Recording Outputs\n",
    "save_and_print_test(7)"
   ]
  },
  {
   "cell_type": "markdown",
   "id": "50e85e8b",
   "metadata": {},
   "source": [
    "## Test Case: 8\n",
    "\n",
    "| Signals | selALUOp | A | B | ALUOut | branch | Delay | TestNo | Note | \n",
    "|:----:|:----:|:----:|:----:|:----:|:----:|:----:|:----:|:----:|\n",
    "| Mode | in | in | in | out | out | None | None | None | \n",
    "| Radix | 4'b | 32'h | 32'h | 32'h | 1'b | None | None | None | \n",
    "|  | 0110 | f0c3a596 | 00000008 | 00f0c3a5 | 0 | 1 | 9 | A >> B(4:0) shift right logical | "
   ]
  },
  {
   "cell_type": "code",
   "execution_count": null,
   "id": "fec10200",
   "metadata": {},
   "outputs": [],
   "source": [
    "# Asserting Inputs\n",
    "selALUOp.write(0, int(\"0110\", 2))\n",
    "A.write(0, int(\"f0c3a596\", 16))\n",
    "B.write(0, int(\"00000008\", 16))\n",
    "\n",
    "\n",
    "# Recording Outputs\n",
    "save_and_print_test(8)"
   ]
  },
  {
   "cell_type": "markdown",
   "id": "0aebe2fc",
   "metadata": {},
   "source": [
    "## Test Case: 9\n",
    "\n",
    "| Signals | selALUOp | A | B | ALUOut | branch | Delay | TestNo | Note | \n",
    "|:----:|:----:|:----:|:----:|:----:|:----:|:----:|:----:|:----:|\n",
    "| Mode | in | in | in | out | out | None | None | None | \n",
    "| Radix | 4'b | 32'h | 32'h | 32'h | 1'b | None | None | None | \n",
    "|  | 0111 | f0c3a596 | 00000008 | fff0c3a5 | 0 | 1 | 10 | A >>> B(4:0) shift right arithmetic | "
   ]
  },
  {
   "cell_type": "code",
   "execution_count": null,
   "id": "9ed55edf",
   "metadata": {},
   "outputs": [],
   "source": [
    "# Asserting Inputs\n",
    "selALUOp.write(0, int(\"0111\", 2))\n",
    "A.write(0, int(\"f0c3a596\", 16))\n",
    "B.write(0, int(\"00000008\", 16))\n",
    "\n",
    "\n",
    "# Recording Outputs\n",
    "save_and_print_test(9)"
   ]
  },
  {
   "cell_type": "markdown",
   "id": "9e286f29",
   "metadata": {},
   "source": [
    "## Test Case: 10\n",
    "\n",
    "| Signals | selALUOp | A | B | ALUOut | branch | Delay | TestNo | Note | \n",
    "|:----:|:----:|:----:|:----:|:----:|:----:|:----:|:----:|:----:|\n",
    "| Mode | in | in | in | out | out | None | None | None | \n",
    "| Radix | 4'b | 32'h | 32'h | 32'h | 1'b | None | None | None | \n",
    "|  | 1000 | f0c3a596 | 1f7e8ab4 | 00000001 | 0 | 1 | 11 | 1 if sgn A < sgn B | "
   ]
  },
  {
   "cell_type": "code",
   "execution_count": null,
   "id": "541bd41e",
   "metadata": {},
   "outputs": [],
   "source": [
    "# Asserting Inputs\n",
    "selALUOp.write(0, int(\"1000\", 2))\n",
    "A.write(0, int(\"f0c3a596\", 16))\n",
    "B.write(0, int(\"1f7e8ab4\", 16))\n",
    "\n",
    "\n",
    "# Recording Outputs\n",
    "save_and_print_test(10)"
   ]
  },
  {
   "cell_type": "markdown",
   "id": "ace04927",
   "metadata": {},
   "source": [
    "## Test Case: 11\n",
    "\n",
    "| Signals | selALUOp | A | B | ALUOut | branch | Delay | TestNo | Note | \n",
    "|:----:|:----:|:----:|:----:|:----:|:----:|:----:|:----:|:----:|\n",
    "| Mode | in | in | in | out | out | None | None | None | \n",
    "| Radix | 4'b | 32'h | 32'h | 32'h | 1'b | None | None | None | \n",
    "|  | 1001 | f0c3a596 | 1f7e8ab4 | 00000000 | 0 | 1 | 12 | 1 if uns A < uns B | "
   ]
  },
  {
   "cell_type": "code",
   "execution_count": null,
   "id": "283dde0c",
   "metadata": {},
   "outputs": [],
   "source": [
    "# Asserting Inputs\n",
    "selALUOp.write(0, int(\"1001\", 2))\n",
    "A.write(0, int(\"f0c3a596\", 16))\n",
    "B.write(0, int(\"1f7e8ab4\", 16))\n",
    "\n",
    "\n",
    "# Recording Outputs\n",
    "save_and_print_test(11)"
   ]
  },
  {
   "cell_type": "markdown",
   "id": "b20368aa",
   "metadata": {},
   "source": [
    "## Test Case: 12\n",
    "\n",
    "| Signals | selALUOp | A | B | ALUOut | branch | Delay | TestNo | Note | \n",
    "|:----:|:----:|:----:|:----:|:----:|:----:|:----:|:----:|:----:|\n",
    "| Mode | in | in | in | out | out | None | None | None | \n",
    "| Radix | 4'b | 32'h | 32'h | 32'h | 1'b | None | None | None | \n",
    "|  | 1010 | f0c3a596 | 1f7e8ab4 | 00000001 | 0 | 1 | 13 | branch = 1 if A = B | "
   ]
  },
  {
   "cell_type": "code",
   "execution_count": null,
   "id": "3645663e",
   "metadata": {},
   "outputs": [],
   "source": [
    "# Asserting Inputs\n",
    "selALUOp.write(0, int(\"1010\", 2))\n",
    "A.write(0, int(\"f0c3a596\", 16))\n",
    "B.write(0, int(\"1f7e8ab4\", 16))\n",
    "\n",
    "\n",
    "# Recording Outputs\n",
    "save_and_print_test(12)"
   ]
  },
  {
   "cell_type": "markdown",
   "id": "38e6be42",
   "metadata": {},
   "source": [
    "## Test Case: 13\n",
    "\n",
    "| Signals | selALUOp | A | B | ALUOut | branch | Delay | TestNo | Note | \n",
    "|:----:|:----:|:----:|:----:|:----:|:----:|:----:|:----:|:----:|\n",
    "| Mode | in | in | in | out | out | None | None | None | \n",
    "| Radix | 4'b | 32'h | 32'h | 32'h | 1'b | None | None | None | \n",
    "|  | 1010 | f0c3a596 | f0c3a596 | 00000002 | 1 | 1 | 14 | branch = 1 if A = B | "
   ]
  },
  {
   "cell_type": "code",
   "execution_count": null,
   "id": "27da47f2",
   "metadata": {},
   "outputs": [],
   "source": [
    "# Asserting Inputs\n",
    "selALUOp.write(0, int(\"1010\", 2))\n",
    "A.write(0, int(\"f0c3a596\", 16))\n",
    "B.write(0, int(\"f0c3a596\", 16))\n",
    "\n",
    "\n",
    "# Recording Outputs\n",
    "save_and_print_test(13)"
   ]
  },
  {
   "cell_type": "markdown",
   "id": "97daaf4e",
   "metadata": {},
   "source": [
    "## Test Case: 14\n",
    "\n",
    "| Signals | selALUOp | A | B | ALUOut | branch | Delay | TestNo | Note | \n",
    "|:----:|:----:|:----:|:----:|:----:|:----:|:----:|:----:|:----:|\n",
    "| Mode | in | in | in | out | out | None | None | None | \n",
    "| Radix | 4'b | 32'h | 32'h | 32'h | 1'b | None | None | None | \n",
    "|  | 1011 | f0c3a596 | 1f7e8ab4 | 00000003 | 1 | 1 | 15 | branch = 1 if A != B | "
   ]
  },
  {
   "cell_type": "code",
   "execution_count": null,
   "id": "0214ab5a",
   "metadata": {},
   "outputs": [],
   "source": [
    "# Asserting Inputs\n",
    "selALUOp.write(0, int(\"1011\", 2))\n",
    "A.write(0, int(\"f0c3a596\", 16))\n",
    "B.write(0, int(\"1f7e8ab4\", 16))\n",
    "\n",
    "\n",
    "# Recording Outputs\n",
    "save_and_print_test(14)"
   ]
  },
  {
   "cell_type": "markdown",
   "id": "dcc42294",
   "metadata": {},
   "source": [
    "## Test Case: 15\n",
    "\n",
    "| Signals | selALUOp | A | B | ALUOut | branch | Delay | TestNo | Note | \n",
    "|:----:|:----:|:----:|:----:|:----:|:----:|:----:|:----:|:----:|\n",
    "| Mode | in | in | in | out | out | None | None | None | \n",
    "| Radix | 4'b | 32'h | 32'h | 32'h | 1'b | None | None | None | \n",
    "|  | 1011 | f0c3a596 | f0c3a596 | 00000004 | 0 | 1 | 16 |  | "
   ]
  },
  {
   "cell_type": "code",
   "execution_count": null,
   "id": "34ab5fc2",
   "metadata": {},
   "outputs": [],
   "source": [
    "# Asserting Inputs\n",
    "selALUOp.write(0, int(\"1011\", 2))\n",
    "A.write(0, int(\"f0c3a596\", 16))\n",
    "B.write(0, int(\"f0c3a596\", 16))\n",
    "\n",
    "\n",
    "# Recording Outputs\n",
    "save_and_print_test(15)"
   ]
  },
  {
   "cell_type": "markdown",
   "id": "f9c1a9dd",
   "metadata": {},
   "source": [
    "## Test Case: 16\n",
    "\n",
    "| Signals | selALUOp | A | B | ALUOut | branch | Delay | TestNo | Note | \n",
    "|:----:|:----:|:----:|:----:|:----:|:----:|:----:|:----:|:----:|\n",
    "| Mode | in | in | in | out | out | None | None | None | \n",
    "| Radix | 4'b | 32'h | 32'h | 32'h | 1'b | None | None | None | \n",
    "|  | 1100 | f0c3a596 | 1f7e8ab4 | 00000005 | 1 | 1 | 17 | branch = 1 if sgn A < sgnB | "
   ]
  },
  {
   "cell_type": "code",
   "execution_count": null,
   "id": "0180a7ff",
   "metadata": {},
   "outputs": [],
   "source": [
    "# Asserting Inputs\n",
    "selALUOp.write(0, int(\"1100\", 2))\n",
    "A.write(0, int(\"f0c3a596\", 16))\n",
    "B.write(0, int(\"1f7e8ab4\", 16))\n",
    "\n",
    "\n",
    "# Recording Outputs\n",
    "save_and_print_test(16)"
   ]
  },
  {
   "cell_type": "markdown",
   "id": "96b379a4",
   "metadata": {},
   "source": [
    "## Test Case: 17\n",
    "\n",
    "| Signals | selALUOp | A | B | ALUOut | branch | Delay | TestNo | Note | \n",
    "|:----:|:----:|:----:|:----:|:----:|:----:|:----:|:----:|:----:|\n",
    "| Mode | in | in | in | out | out | None | None | None | \n",
    "| Radix | 4'b | 32'h | 32'h | 32'h | 1'b | None | None | None | \n",
    "|  | 1100 | f0c3a596 | f0c3a596 | 00000006 | 0 | 1 | 18 |  | "
   ]
  },
  {
   "cell_type": "code",
   "execution_count": null,
   "id": "98641ff2",
   "metadata": {},
   "outputs": [],
   "source": [
    "# Asserting Inputs\n",
    "selALUOp.write(0, int(\"1100\", 2))\n",
    "A.write(0, int(\"f0c3a596\", 16))\n",
    "B.write(0, int(\"f0c3a596\", 16))\n",
    "\n",
    "\n",
    "# Recording Outputs\n",
    "save_and_print_test(17)"
   ]
  },
  {
   "cell_type": "markdown",
   "id": "377e46ec",
   "metadata": {},
   "source": [
    "## Test Case: 18\n",
    "\n",
    "| Signals | selALUOp | A | B | ALUOut | branch | Delay | TestNo | Note | \n",
    "|:----:|:----:|:----:|:----:|:----:|:----:|:----:|:----:|:----:|\n",
    "| Mode | in | in | in | out | out | None | None | None | \n",
    "| Radix | 4'b | 32'h | 32'h | 32'h | 1'b | None | None | None | \n",
    "|  | 1101 | f0c3a596 | 1f7e8ab4 | 00000007 | 0 | 1 | 19 | branch = 1 if sgn A >= sgnB | "
   ]
  },
  {
   "cell_type": "code",
   "execution_count": null,
   "id": "be0a8a37",
   "metadata": {},
   "outputs": [],
   "source": [
    "# Asserting Inputs\n",
    "selALUOp.write(0, int(\"1101\", 2))\n",
    "A.write(0, int(\"f0c3a596\", 16))\n",
    "B.write(0, int(\"1f7e8ab4\", 16))\n",
    "\n",
    "\n",
    "# Recording Outputs\n",
    "save_and_print_test(18)"
   ]
  },
  {
   "cell_type": "markdown",
   "id": "a38bf8c4",
   "metadata": {},
   "source": [
    "## Test Case: 19\n",
    "\n",
    "| Signals | selALUOp | A | B | ALUOut | branch | Delay | TestNo | Note | \n",
    "|:----:|:----:|:----:|:----:|:----:|:----:|:----:|:----:|:----:|\n",
    "| Mode | in | in | in | out | out | None | None | None | \n",
    "| Radix | 4'b | 32'h | 32'h | 32'h | 1'b | None | None | None | \n",
    "|  | 1101 | f0c3a596 | f0c3a596 | 00000008 | 1 | 1 | 20 |  | "
   ]
  },
  {
   "cell_type": "code",
   "execution_count": null,
   "id": "561d694f",
   "metadata": {},
   "outputs": [],
   "source": [
    "# Asserting Inputs\n",
    "selALUOp.write(0, int(\"1101\", 2))\n",
    "A.write(0, int(\"f0c3a596\", 16))\n",
    "B.write(0, int(\"f0c3a596\", 16))\n",
    "\n",
    "\n",
    "# Recording Outputs\n",
    "save_and_print_test(19)"
   ]
  },
  {
   "cell_type": "markdown",
   "id": "5860e953",
   "metadata": {},
   "source": [
    "## Test Case: 20\n",
    "\n",
    "| Signals | selALUOp | A | B | ALUOut | branch | Delay | TestNo | Note | \n",
    "|:----:|:----:|:----:|:----:|:----:|:----:|:----:|:----:|:----:|\n",
    "| Mode | in | in | in | out | out | None | None | None | \n",
    "| Radix | 4'b | 32'h | 32'h | 32'h | 1'b | None | None | None | \n",
    "|  | 1110 | f0c3a596 | 1f7e8ab4 | 00000009 | 0 | 1 | 21 | branch = 1 if uns A < uns B | "
   ]
  },
  {
   "cell_type": "code",
   "execution_count": null,
   "id": "ec1e0fe1",
   "metadata": {},
   "outputs": [],
   "source": [
    "# Asserting Inputs\n",
    "selALUOp.write(0, int(\"1110\", 2))\n",
    "A.write(0, int(\"f0c3a596\", 16))\n",
    "B.write(0, int(\"1f7e8ab4\", 16))\n",
    "\n",
    "\n",
    "# Recording Outputs\n",
    "save_and_print_test(20)"
   ]
  },
  {
   "cell_type": "markdown",
   "id": "aa65081f",
   "metadata": {},
   "source": [
    "## Test Case: 21\n",
    "\n",
    "| Signals | selALUOp | A | B | ALUOut | branch | Delay | TestNo | Note | \n",
    "|:----:|:----:|:----:|:----:|:----:|:----:|:----:|:----:|:----:|\n",
    "| Mode | in | in | in | out | out | None | None | None | \n",
    "| Radix | 4'b | 32'h | 32'h | 32'h | 1'b | None | None | None | \n",
    "|  | 1110 | f0c3a593 | f0c3a596 | 00000010 | 1 | 1 | 22 |  | "
   ]
  },
  {
   "cell_type": "code",
   "execution_count": null,
   "id": "d48d79ea",
   "metadata": {},
   "outputs": [],
   "source": [
    "# Asserting Inputs\n",
    "selALUOp.write(0, int(\"1110\", 2))\n",
    "A.write(0, int(\"f0c3a593\", 16))\n",
    "B.write(0, int(\"f0c3a596\", 16))\n",
    "\n",
    "\n",
    "# Recording Outputs\n",
    "save_and_print_test(21)"
   ]
  },
  {
   "cell_type": "markdown",
   "id": "f6c743e8",
   "metadata": {},
   "source": [
    "## Test Case: 22\n",
    "\n",
    "| Signals | selALUOp | A | B | ALUOut | branch | Delay | TestNo | Note | \n",
    "|:----:|:----:|:----:|:----:|:----:|:----:|:----:|:----:|:----:|\n",
    "| Mode | in | in | in | out | out | None | None | None | \n",
    "| Radix | 4'b | 32'h | 32'h | 32'h | 1'b | None | None | None | \n",
    "|  | 1111 | f0c3a596 | 1f7e8ab4 | 00000011 | 1 | 1 | 23 | branch = 1 if uns A >= uns B | "
   ]
  },
  {
   "cell_type": "code",
   "execution_count": null,
   "id": "402b32ef",
   "metadata": {},
   "outputs": [],
   "source": [
    "# Asserting Inputs\n",
    "selALUOp.write(0, int(\"1111\", 2))\n",
    "A.write(0, int(\"f0c3a596\", 16))\n",
    "B.write(0, int(\"1f7e8ab4\", 16))\n",
    "\n",
    "\n",
    "# Recording Outputs\n",
    "save_and_print_test(22)"
   ]
  },
  {
   "cell_type": "markdown",
   "id": "b0876b02",
   "metadata": {},
   "source": [
    "## Test Case: 23\n",
    "\n",
    "| Signals | selALUOp | A | B | ALUOut | branch | Delay | TestNo | Note | \n",
    "|:----:|:----:|:----:|:----:|:----:|:----:|:----:|:----:|:----:|\n",
    "| Mode | in | in | in | out | out | None | None | None | \n",
    "| Radix | 4'b | 32'h | 32'h | 32'h | 1'b | None | None | None | \n",
    "|  | 1111 | f0c3a596 | f0c3a596 | 00000012 | 1 | 1 | 24 |  | "
   ]
  },
  {
   "cell_type": "code",
   "execution_count": null,
   "id": "19587019",
   "metadata": {},
   "outputs": [],
   "source": [
    "# Asserting Inputs\n",
    "selALUOp.write(0, int(\"1111\", 2))\n",
    "A.write(0, int(\"f0c3a596\", 16))\n",
    "B.write(0, int(\"f0c3a596\", 16))\n",
    "\n",
    "\n",
    "# Recording Outputs\n",
    "save_and_print_test(23)"
   ]
  }
 ],
 "metadata": {},
 "nbformat": 4,
 "nbformat_minor": 5
}
