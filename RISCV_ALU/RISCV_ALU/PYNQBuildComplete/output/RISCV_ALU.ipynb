{
 "cells": [
  {
   "cell_type": "markdown",
   "id": "cb97bc63",
   "metadata": {},
   "source": [
    "# RV32I RISC-V Arithmetic Logic Unit (ALU)"
   ]
  },
  {
   "cell_type": "markdown",
   "id": "5f86beba",
   "metadata": {},
   "source": [
    "#### Python Environment Set Up"
   ]
  },
  {
   "cell_type": "code",
   "execution_count": null,
   "id": "75d95175",
   "metadata": {},
   "outputs": [],
   "source": [
    "%run RISCV_ALU.py"
   ]
  },
  {
   "cell_type": "markdown",
   "id": "3d83c157",
   "metadata": {},
   "source": [
    "## Component Description\n",
    "\n",
    "RISC-V Arithmetic Logic Unit (RISCV_ALU) &#10;&#10;Combinational logic component&#10;Input signal selALUOp(3:0) selects ALU function.&#10;32-bit data inputs A&#44; B&#10;32-bit data output ALUOut&#10;Output signal branch&#44; asserted when branch condition is true"
   ]
  },
  {
   "cell_type": "markdown",
   "id": "34b51b68",
   "metadata": {},
   "source": [
    "## Entity I/O\n",
    "\n",
    "| Name | Mode | Type | Description |\n",
    "|:----:|:----:|:----:|:------------|\n",
    "| selALUOp | in | bus(3 downto 0) | ALU control signal |\n",
    "| A | in | bus(31 downto 0) | ALU data input A |\n",
    "| B | in | bus(31 downto 0) | ALU data input B |\n",
    "| ALUOut | out | bus(31 downto 0) | ALU data output |\n",
    "| branch | out | single bit | Asserted (h) for branch operation (selALOp(3:0) = 10-15, if &#10;branch condition check is true |"
   ]
  },
  {
   "cell_type": "markdown",
   "id": "75cb9bf7",
   "metadata": {},
   "source": [
    "## IO Visualised\n",
    "\n",
    "\n",
    "| PYNQ I/O | Component Signal |\n",
    "|:----:|:----:|\n",
    "| led0 | selALUOp[0] |\n",
    "| led1 | selALUOp[1] |\n",
    "| led2 | selALUOp[2] |\n",
    "| led3 | selALUOp[3] |"
   ]
  },
  {
   "cell_type": "code",
   "execution_count": null,
   "id": "14a0125f",
   "metadata": {},
   "outputs": [],
   "source": [
    "display(generate_io_gui())"
   ]
  },
  {
   "cell_type": "markdown",
   "id": "29a19322",
   "metadata": {},
   "source": [
    "## Component Controller"
   ]
  },
  {
   "cell_type": "code",
   "execution_count": null,
   "id": "da0a129b",
   "metadata": {},
   "outputs": [],
   "source": [
    "display(generate_gui(svg_content))"
   ]
  },
  {
   "cell_type": "markdown",
   "id": "a43bb0ae",
   "metadata": {},
   "source": [
    "# Test Plan"
   ]
  },
  {
   "cell_type": "markdown",
   "id": "16586c44",
   "metadata": {},
   "source": [
    "| Signals | selALUOp | A | B | ALUOut | branch | Delay | TestNo | Note | \n",
    "|:----:|:----:|:----:|:----:|:----:|:----:|:----:|:----:|:----:|\n",
    "| Mode | in | in | in | out | out | None | None | None | \n",
    "| Radix | 4'b | 32'h | 32'h | 32'h | 1'b | None | None | None | \n",
    "|  | 0000 | 5a5a5a5a | 15a5a5a6 | 70000000 | 0 | 1 | 1 | sgnA + sgnB | \n",
    "|  | 0000 | 15a5a5a6 | 5a5a5a5a | 70000000 | 0 | 1 | 2 | sgnA + sgnB | \n",
    "|  | 0000 | ffffffff | 40000000 | 3fffffff | 0 | 1 | 3 |  | \n",
    "|  | 0001 | ffffffff | fffffffe | 00000001 | 0 | 1 | 4 | sgnA - sgnB | \n",
    "|  | 0010 | f0c3a596 | 1f7e8ab4 | 10428094 | 0 | 1 | 5 | A and B | \n",
    "|  | 0011 | f0c3a596 | 1f7e8ab4 | ffffafb6 | 0 | 1 | 6 | A or B | \n",
    "|  | 0100 | f0c3a596 | 1f7e8ab4 | efbd2f22 | 0 | 1 | 7 | A xor B | \n",
    "|  | 0101 | f0c3a596 | 00000008 | c3a59600 | 0 | 1 | 8 | A << B(4:0) shift left logical | \n",
    "|  | 0110 | f0c3a596 | 00000008 | 00f0c3a5 | 0 | 1 | 9 | A >> B(4:0) shift right logical | \n",
    "|  | 0111 | f0c3a596 | 00000008 | fff0c3a5 | 0 | 1 | 10 | A >>> B(4:0) shift right arithmetic | \n",
    "|  | 1000 | f0c3a596 | 1f7e8ab4 | 00000001 | 0 | 1 | 11 | 1 if sgn A < sgn B | \n",
    "|  | 1001 | f0c3a596 | 1f7e8ab4 | 00000000 | 0 | 1 | 12 | 1 if uns A < uns B | \n",
    "|  | 1010 | f0c3a596 | 1f7e8ab4 | 00000001 | 0 | 1 | 13 | branch = 1 if A = B | \n",
    "|  | 1010 | f0c3a596 | f0c3a596 | 00000002 | 1 | 1 | 14 | branch = 1 if A = B | \n",
    "|  | 1011 | f0c3a596 | 1f7e8ab4 | 00000003 | 1 | 1 | 15 | branch = 1 if A != B | \n",
    "|  | 1011 | f0c3a596 | f0c3a596 | 00000004 | 0 | 1 | 16 |  | \n",
    "|  | 1100 | f0c3a596 | 1f7e8ab4 | 00000005 | 1 | 1 | 17 | branch = 1 if sgn A < sgnB | \n",
    "|  | 1100 | f0c3a596 | f0c3a596 | 00000006 | 0 | 1 | 18 |  | \n",
    "|  | 1101 | f0c3a596 | 1f7e8ab4 | 00000007 | 0 | 1 | 19 | branch = 1 if sgn A >= sgnB | \n",
    "|  | 1101 | f0c3a596 | f0c3a596 | 00000008 | 1 | 1 | 20 |  | \n",
    "|  | 1110 | f0c3a596 | 1f7e8ab4 | 00000009 | 0 | 1 | 21 | branch = 1 if uns A < uns B | \n",
    "|  | 1110 | f0c3a593 | f0c3a596 | 00000010 | 1 | 1 | 22 |  | \n",
    "|  | 1111 | f0c3a596 | 1f7e8ab4 | 00000011 | 1 | 1 | 23 | branch = 1 if uns A >= uns B | \n",
    "|  | 1111 | f0c3a596 | f0c3a596 | 00000012 | 1 | 1 | 24 |  | "
   ]
  },
  {
   "cell_type": "markdown",
   "id": "88480723",
   "metadata": {},
   "source": [
    "## Test Case: 0\n",
    "\n",
    "| Signals | selALUOp | A | B | ALUOut | branch | Delay | TestNo | Note | \n",
    "|:----:|:----:|:----:|:----:|:----:|:----:|:----:|:----:|:----:|\n",
    "| Mode | in | in | in | out | out | None | None | None | \n",
    "| Radix | 4'b | 32'h | 32'h | 32'h | 1'b | None | None | None | \n",
    "|  | 0000 | 5a5a5a5a | 15a5a5a6 | 70000000 | 0 | 1 | 1 | sgnA + sgnB | "
   ]
  },
  {
   "cell_type": "code",
   "execution_count": null,
   "id": "90f239ea",
   "metadata": {},
   "outputs": [],
   "source": [
    "# Asserting Inputs\n",
    "selALUOp.write(0, int(\"0000\", 2))\n",
    "A.write(0, int(\"5a5a5a5a\", 16))\n",
    "B.write(0, int(\"15a5a5a6\", 16))\n",
    "\n",
    "\n",
    "# Recording Outputs\n",
    "save_and_print_test(0)"
   ]
  },
  {
   "cell_type": "markdown",
   "id": "ad861531",
   "metadata": {},
   "source": [
    "## Test Case: 1\n",
    "\n",
    "| Signals | selALUOp | A | B | ALUOut | branch | Delay | TestNo | Note | \n",
    "|:----:|:----:|:----:|:----:|:----:|:----:|:----:|:----:|:----:|\n",
    "| Mode | in | in | in | out | out | None | None | None | \n",
    "| Radix | 4'b | 32'h | 32'h | 32'h | 1'b | None | None | None | \n",
    "|  | 0000 | 15a5a5a6 | 5a5a5a5a | 70000000 | 0 | 1 | 2 | sgnA + sgnB | "
   ]
  },
  {
   "cell_type": "code",
   "execution_count": null,
   "id": "074ad146",
   "metadata": {},
   "outputs": [],
   "source": [
    "# Asserting Inputs\n",
    "selALUOp.write(0, int(\"0000\", 2))\n",
    "A.write(0, int(\"15a5a5a6\", 16))\n",
    "B.write(0, int(\"5a5a5a5a\", 16))\n",
    "\n",
    "\n",
    "# Recording Outputs\n",
    "save_and_print_test(1)"
   ]
  },
  {
   "cell_type": "markdown",
   "id": "f4eea6c7",
   "metadata": {},
   "source": [
    "## Test Case: 2\n",
    "\n",
    "| Signals | selALUOp | A | B | ALUOut | branch | Delay | TestNo | Note | \n",
    "|:----:|:----:|:----:|:----:|:----:|:----:|:----:|:----:|:----:|\n",
    "| Mode | in | in | in | out | out | None | None | None | \n",
    "| Radix | 4'b | 32'h | 32'h | 32'h | 1'b | None | None | None | \n",
    "|  | 0000 | ffffffff | 40000000 | 3fffffff | 0 | 1 | 3 |  | "
   ]
  },
  {
   "cell_type": "code",
   "execution_count": null,
   "id": "0b635681",
   "metadata": {},
   "outputs": [],
   "source": [
    "# Asserting Inputs\n",
    "selALUOp.write(0, int(\"0000\", 2))\n",
    "A.write(0, int(\"ffffffff\", 16))\n",
    "B.write(0, int(\"40000000\", 16))\n",
    "\n",
    "\n",
    "# Recording Outputs\n",
    "save_and_print_test(2)"
   ]
  },
  {
   "cell_type": "markdown",
   "id": "f2469e4a",
   "metadata": {},
   "source": [
    "## Test Case: 3\n",
    "\n",
    "| Signals | selALUOp | A | B | ALUOut | branch | Delay | TestNo | Note | \n",
    "|:----:|:----:|:----:|:----:|:----:|:----:|:----:|:----:|:----:|\n",
    "| Mode | in | in | in | out | out | None | None | None | \n",
    "| Radix | 4'b | 32'h | 32'h | 32'h | 1'b | None | None | None | \n",
    "|  | 0001 | ffffffff | fffffffe | 00000001 | 0 | 1 | 4 | sgnA - sgnB | "
   ]
  },
  {
   "cell_type": "code",
   "execution_count": null,
   "id": "805bc861",
   "metadata": {},
   "outputs": [],
   "source": [
    "# Asserting Inputs\n",
    "selALUOp.write(0, int(\"0001\", 2))\n",
    "A.write(0, int(\"ffffffff\", 16))\n",
    "B.write(0, int(\"fffffffe\", 16))\n",
    "\n",
    "\n",
    "# Recording Outputs\n",
    "save_and_print_test(3)"
   ]
  },
  {
   "cell_type": "markdown",
   "id": "3f7a5d14",
   "metadata": {},
   "source": [
    "## Test Case: 4\n",
    "\n",
    "| Signals | selALUOp | A | B | ALUOut | branch | Delay | TestNo | Note | \n",
    "|:----:|:----:|:----:|:----:|:----:|:----:|:----:|:----:|:----:|\n",
    "| Mode | in | in | in | out | out | None | None | None | \n",
    "| Radix | 4'b | 32'h | 32'h | 32'h | 1'b | None | None | None | \n",
    "|  | 0010 | f0c3a596 | 1f7e8ab4 | 10428094 | 0 | 1 | 5 | A and B | "
   ]
  },
  {
   "cell_type": "code",
   "execution_count": null,
   "id": "d780c5de",
   "metadata": {},
   "outputs": [],
   "source": [
    "# Asserting Inputs\n",
    "selALUOp.write(0, int(\"0010\", 2))\n",
    "A.write(0, int(\"f0c3a596\", 16))\n",
    "B.write(0, int(\"1f7e8ab4\", 16))\n",
    "\n",
    "\n",
    "# Recording Outputs\n",
    "save_and_print_test(4)"
   ]
  },
  {
   "cell_type": "markdown",
   "id": "ac86f652",
   "metadata": {},
   "source": [
    "## Test Case: 5\n",
    "\n",
    "| Signals | selALUOp | A | B | ALUOut | branch | Delay | TestNo | Note | \n",
    "|:----:|:----:|:----:|:----:|:----:|:----:|:----:|:----:|:----:|\n",
    "| Mode | in | in | in | out | out | None | None | None | \n",
    "| Radix | 4'b | 32'h | 32'h | 32'h | 1'b | None | None | None | \n",
    "|  | 0011 | f0c3a596 | 1f7e8ab4 | ffffafb6 | 0 | 1 | 6 | A or B | "
   ]
  },
  {
   "cell_type": "code",
   "execution_count": null,
   "id": "e02bb0f9",
   "metadata": {},
   "outputs": [],
   "source": [
    "# Asserting Inputs\n",
    "selALUOp.write(0, int(\"0011\", 2))\n",
    "A.write(0, int(\"f0c3a596\", 16))\n",
    "B.write(0, int(\"1f7e8ab4\", 16))\n",
    "\n",
    "\n",
    "# Recording Outputs\n",
    "save_and_print_test(5)"
   ]
  },
  {
   "cell_type": "markdown",
   "id": "9a275bb7",
   "metadata": {},
   "source": [
    "## Test Case: 6\n",
    "\n",
    "| Signals | selALUOp | A | B | ALUOut | branch | Delay | TestNo | Note | \n",
    "|:----:|:----:|:----:|:----:|:----:|:----:|:----:|:----:|:----:|\n",
    "| Mode | in | in | in | out | out | None | None | None | \n",
    "| Radix | 4'b | 32'h | 32'h | 32'h | 1'b | None | None | None | \n",
    "|  | 0100 | f0c3a596 | 1f7e8ab4 | efbd2f22 | 0 | 1 | 7 | A xor B | "
   ]
  },
  {
   "cell_type": "code",
   "execution_count": null,
   "id": "f1fb96fd",
   "metadata": {},
   "outputs": [],
   "source": [
    "# Asserting Inputs\n",
    "selALUOp.write(0, int(\"0100\", 2))\n",
    "A.write(0, int(\"f0c3a596\", 16))\n",
    "B.write(0, int(\"1f7e8ab4\", 16))\n",
    "\n",
    "\n",
    "# Recording Outputs\n",
    "save_and_print_test(6)"
   ]
  },
  {
   "cell_type": "markdown",
   "id": "a518cde4",
   "metadata": {},
   "source": [
    "## Test Case: 7\n",
    "\n",
    "| Signals | selALUOp | A | B | ALUOut | branch | Delay | TestNo | Note | \n",
    "|:----:|:----:|:----:|:----:|:----:|:----:|:----:|:----:|:----:|\n",
    "| Mode | in | in | in | out | out | None | None | None | \n",
    "| Radix | 4'b | 32'h | 32'h | 32'h | 1'b | None | None | None | \n",
    "|  | 0101 | f0c3a596 | 00000008 | c3a59600 | 0 | 1 | 8 | A << B(4:0) shift left logical | "
   ]
  },
  {
   "cell_type": "code",
   "execution_count": null,
   "id": "c5b34660",
   "metadata": {},
   "outputs": [],
   "source": [
    "# Asserting Inputs\n",
    "selALUOp.write(0, int(\"0101\", 2))\n",
    "A.write(0, int(\"f0c3a596\", 16))\n",
    "B.write(0, int(\"00000008\", 16))\n",
    "\n",
    "\n",
    "# Recording Outputs\n",
    "save_and_print_test(7)"
   ]
  },
  {
   "cell_type": "markdown",
   "id": "76578653",
   "metadata": {},
   "source": [
    "## Test Case: 8\n",
    "\n",
    "| Signals | selALUOp | A | B | ALUOut | branch | Delay | TestNo | Note | \n",
    "|:----:|:----:|:----:|:----:|:----:|:----:|:----:|:----:|:----:|\n",
    "| Mode | in | in | in | out | out | None | None | None | \n",
    "| Radix | 4'b | 32'h | 32'h | 32'h | 1'b | None | None | None | \n",
    "|  | 0110 | f0c3a596 | 00000008 | 00f0c3a5 | 0 | 1 | 9 | A >> B(4:0) shift right logical | "
   ]
  },
  {
   "cell_type": "code",
   "execution_count": null,
   "id": "40056997",
   "metadata": {},
   "outputs": [],
   "source": [
    "# Asserting Inputs\n",
    "selALUOp.write(0, int(\"0110\", 2))\n",
    "A.write(0, int(\"f0c3a596\", 16))\n",
    "B.write(0, int(\"00000008\", 16))\n",
    "\n",
    "\n",
    "# Recording Outputs\n",
    "save_and_print_test(8)"
   ]
  },
  {
   "cell_type": "markdown",
   "id": "edf7edd3",
   "metadata": {},
   "source": [
    "## Test Case: 9\n",
    "\n",
    "| Signals | selALUOp | A | B | ALUOut | branch | Delay | TestNo | Note | \n",
    "|:----:|:----:|:----:|:----:|:----:|:----:|:----:|:----:|:----:|\n",
    "| Mode | in | in | in | out | out | None | None | None | \n",
    "| Radix | 4'b | 32'h | 32'h | 32'h | 1'b | None | None | None | \n",
    "|  | 0111 | f0c3a596 | 00000008 | fff0c3a5 | 0 | 1 | 10 | A >>> B(4:0) shift right arithmetic | "
   ]
  },
  {
   "cell_type": "code",
   "execution_count": null,
   "id": "031dc0c6",
   "metadata": {},
   "outputs": [],
   "source": [
    "# Asserting Inputs\n",
    "selALUOp.write(0, int(\"0111\", 2))\n",
    "A.write(0, int(\"f0c3a596\", 16))\n",
    "B.write(0, int(\"00000008\", 16))\n",
    "\n",
    "\n",
    "# Recording Outputs\n",
    "save_and_print_test(9)"
   ]
  },
  {
   "cell_type": "markdown",
   "id": "25b8073c",
   "metadata": {},
   "source": [
    "## Test Case: 10\n",
    "\n",
    "| Signals | selALUOp | A | B | ALUOut | branch | Delay | TestNo | Note | \n",
    "|:----:|:----:|:----:|:----:|:----:|:----:|:----:|:----:|:----:|\n",
    "| Mode | in | in | in | out | out | None | None | None | \n",
    "| Radix | 4'b | 32'h | 32'h | 32'h | 1'b | None | None | None | \n",
    "|  | 1000 | f0c3a596 | 1f7e8ab4 | 00000001 | 0 | 1 | 11 | 1 if sgn A < sgn B | "
   ]
  },
  {
   "cell_type": "code",
   "execution_count": null,
   "id": "44a582ac",
   "metadata": {},
   "outputs": [],
   "source": [
    "# Asserting Inputs\n",
    "selALUOp.write(0, int(\"1000\", 2))\n",
    "A.write(0, int(\"f0c3a596\", 16))\n",
    "B.write(0, int(\"1f7e8ab4\", 16))\n",
    "\n",
    "\n",
    "# Recording Outputs\n",
    "save_and_print_test(10)"
   ]
  },
  {
   "cell_type": "markdown",
   "id": "7ad065f9",
   "metadata": {},
   "source": [
    "## Test Case: 11\n",
    "\n",
    "| Signals | selALUOp | A | B | ALUOut | branch | Delay | TestNo | Note | \n",
    "|:----:|:----:|:----:|:----:|:----:|:----:|:----:|:----:|:----:|\n",
    "| Mode | in | in | in | out | out | None | None | None | \n",
    "| Radix | 4'b | 32'h | 32'h | 32'h | 1'b | None | None | None | \n",
    "|  | 1001 | f0c3a596 | 1f7e8ab4 | 00000000 | 0 | 1 | 12 | 1 if uns A < uns B | "
   ]
  },
  {
   "cell_type": "code",
   "execution_count": null,
   "id": "a6f36e83",
   "metadata": {},
   "outputs": [],
   "source": [
    "# Asserting Inputs\n",
    "selALUOp.write(0, int(\"1001\", 2))\n",
    "A.write(0, int(\"f0c3a596\", 16))\n",
    "B.write(0, int(\"1f7e8ab4\", 16))\n",
    "\n",
    "\n",
    "# Recording Outputs\n",
    "save_and_print_test(11)"
   ]
  },
  {
   "cell_type": "markdown",
   "id": "ce6a9004",
   "metadata": {},
   "source": [
    "## Test Case: 12\n",
    "\n",
    "| Signals | selALUOp | A | B | ALUOut | branch | Delay | TestNo | Note | \n",
    "|:----:|:----:|:----:|:----:|:----:|:----:|:----:|:----:|:----:|\n",
    "| Mode | in | in | in | out | out | None | None | None | \n",
    "| Radix | 4'b | 32'h | 32'h | 32'h | 1'b | None | None | None | \n",
    "|  | 1010 | f0c3a596 | 1f7e8ab4 | 00000001 | 0 | 1 | 13 | branch = 1 if A = B | "
   ]
  },
  {
   "cell_type": "code",
   "execution_count": null,
   "id": "25e21316",
   "metadata": {},
   "outputs": [],
   "source": [
    "# Asserting Inputs\n",
    "selALUOp.write(0, int(\"1010\", 2))\n",
    "A.write(0, int(\"f0c3a596\", 16))\n",
    "B.write(0, int(\"1f7e8ab4\", 16))\n",
    "\n",
    "\n",
    "# Recording Outputs\n",
    "save_and_print_test(12)"
   ]
  },
  {
   "cell_type": "markdown",
   "id": "83226523",
   "metadata": {},
   "source": [
    "## Test Case: 13\n",
    "\n",
    "| Signals | selALUOp | A | B | ALUOut | branch | Delay | TestNo | Note | \n",
    "|:----:|:----:|:----:|:----:|:----:|:----:|:----:|:----:|:----:|\n",
    "| Mode | in | in | in | out | out | None | None | None | \n",
    "| Radix | 4'b | 32'h | 32'h | 32'h | 1'b | None | None | None | \n",
    "|  | 1010 | f0c3a596 | f0c3a596 | 00000002 | 1 | 1 | 14 | branch = 1 if A = B | "
   ]
  },
  {
   "cell_type": "code",
   "execution_count": null,
   "id": "78c9e646",
   "metadata": {},
   "outputs": [],
   "source": [
    "# Asserting Inputs\n",
    "selALUOp.write(0, int(\"1010\", 2))\n",
    "A.write(0, int(\"f0c3a596\", 16))\n",
    "B.write(0, int(\"f0c3a596\", 16))\n",
    "\n",
    "\n",
    "# Recording Outputs\n",
    "save_and_print_test(13)"
   ]
  },
  {
   "cell_type": "markdown",
   "id": "b225300a",
   "metadata": {},
   "source": [
    "## Test Case: 14\n",
    "\n",
    "| Signals | selALUOp | A | B | ALUOut | branch | Delay | TestNo | Note | \n",
    "|:----:|:----:|:----:|:----:|:----:|:----:|:----:|:----:|:----:|\n",
    "| Mode | in | in | in | out | out | None | None | None | \n",
    "| Radix | 4'b | 32'h | 32'h | 32'h | 1'b | None | None | None | \n",
    "|  | 1011 | f0c3a596 | 1f7e8ab4 | 00000003 | 1 | 1 | 15 | branch = 1 if A != B | "
   ]
  },
  {
   "cell_type": "code",
   "execution_count": null,
   "id": "00fa87cf",
   "metadata": {},
   "outputs": [],
   "source": [
    "# Asserting Inputs\n",
    "selALUOp.write(0, int(\"1011\", 2))\n",
    "A.write(0, int(\"f0c3a596\", 16))\n",
    "B.write(0, int(\"1f7e8ab4\", 16))\n",
    "\n",
    "\n",
    "# Recording Outputs\n",
    "save_and_print_test(14)"
   ]
  },
  {
   "cell_type": "markdown",
   "id": "9fb98d05",
   "metadata": {},
   "source": [
    "## Test Case: 15\n",
    "\n",
    "| Signals | selALUOp | A | B | ALUOut | branch | Delay | TestNo | Note | \n",
    "|:----:|:----:|:----:|:----:|:----:|:----:|:----:|:----:|:----:|\n",
    "| Mode | in | in | in | out | out | None | None | None | \n",
    "| Radix | 4'b | 32'h | 32'h | 32'h | 1'b | None | None | None | \n",
    "|  | 1011 | f0c3a596 | f0c3a596 | 00000004 | 0 | 1 | 16 |  | "
   ]
  },
  {
   "cell_type": "code",
   "execution_count": null,
   "id": "706632da",
   "metadata": {},
   "outputs": [],
   "source": [
    "# Asserting Inputs\n",
    "selALUOp.write(0, int(\"1011\", 2))\n",
    "A.write(0, int(\"f0c3a596\", 16))\n",
    "B.write(0, int(\"f0c3a596\", 16))\n",
    "\n",
    "\n",
    "# Recording Outputs\n",
    "save_and_print_test(15)"
   ]
  },
  {
   "cell_type": "markdown",
   "id": "3ea14c34",
   "metadata": {},
   "source": [
    "## Test Case: 16\n",
    "\n",
    "| Signals | selALUOp | A | B | ALUOut | branch | Delay | TestNo | Note | \n",
    "|:----:|:----:|:----:|:----:|:----:|:----:|:----:|:----:|:----:|\n",
    "| Mode | in | in | in | out | out | None | None | None | \n",
    "| Radix | 4'b | 32'h | 32'h | 32'h | 1'b | None | None | None | \n",
    "|  | 1100 | f0c3a596 | 1f7e8ab4 | 00000005 | 1 | 1 | 17 | branch = 1 if sgn A < sgnB | "
   ]
  },
  {
   "cell_type": "code",
   "execution_count": null,
   "id": "b9985158",
   "metadata": {},
   "outputs": [],
   "source": [
    "# Asserting Inputs\n",
    "selALUOp.write(0, int(\"1100\", 2))\n",
    "A.write(0, int(\"f0c3a596\", 16))\n",
    "B.write(0, int(\"1f7e8ab4\", 16))\n",
    "\n",
    "\n",
    "# Recording Outputs\n",
    "save_and_print_test(16)"
   ]
  },
  {
   "cell_type": "markdown",
   "id": "3a337ce9",
   "metadata": {},
   "source": [
    "## Test Case: 17\n",
    "\n",
    "| Signals | selALUOp | A | B | ALUOut | branch | Delay | TestNo | Note | \n",
    "|:----:|:----:|:----:|:----:|:----:|:----:|:----:|:----:|:----:|\n",
    "| Mode | in | in | in | out | out | None | None | None | \n",
    "| Radix | 4'b | 32'h | 32'h | 32'h | 1'b | None | None | None | \n",
    "|  | 1100 | f0c3a596 | f0c3a596 | 00000006 | 0 | 1 | 18 |  | "
   ]
  },
  {
   "cell_type": "code",
   "execution_count": null,
   "id": "e23ae256",
   "metadata": {},
   "outputs": [],
   "source": [
    "# Asserting Inputs\n",
    "selALUOp.write(0, int(\"1100\", 2))\n",
    "A.write(0, int(\"f0c3a596\", 16))\n",
    "B.write(0, int(\"f0c3a596\", 16))\n",
    "\n",
    "\n",
    "# Recording Outputs\n",
    "save_and_print_test(17)"
   ]
  },
  {
   "cell_type": "markdown",
   "id": "31cc1a37",
   "metadata": {},
   "source": [
    "## Test Case: 18\n",
    "\n",
    "| Signals | selALUOp | A | B | ALUOut | branch | Delay | TestNo | Note | \n",
    "|:----:|:----:|:----:|:----:|:----:|:----:|:----:|:----:|:----:|\n",
    "| Mode | in | in | in | out | out | None | None | None | \n",
    "| Radix | 4'b | 32'h | 32'h | 32'h | 1'b | None | None | None | \n",
    "|  | 1101 | f0c3a596 | 1f7e8ab4 | 00000007 | 0 | 1 | 19 | branch = 1 if sgn A >= sgnB | "
   ]
  },
  {
   "cell_type": "code",
   "execution_count": null,
   "id": "3d09aeca",
   "metadata": {},
   "outputs": [],
   "source": [
    "# Asserting Inputs\n",
    "selALUOp.write(0, int(\"1101\", 2))\n",
    "A.write(0, int(\"f0c3a596\", 16))\n",
    "B.write(0, int(\"1f7e8ab4\", 16))\n",
    "\n",
    "\n",
    "# Recording Outputs\n",
    "save_and_print_test(18)"
   ]
  },
  {
   "cell_type": "markdown",
   "id": "6db69d1f",
   "metadata": {},
   "source": [
    "## Test Case: 19\n",
    "\n",
    "| Signals | selALUOp | A | B | ALUOut | branch | Delay | TestNo | Note | \n",
    "|:----:|:----:|:----:|:----:|:----:|:----:|:----:|:----:|:----:|\n",
    "| Mode | in | in | in | out | out | None | None | None | \n",
    "| Radix | 4'b | 32'h | 32'h | 32'h | 1'b | None | None | None | \n",
    "|  | 1101 | f0c3a596 | f0c3a596 | 00000008 | 1 | 1 | 20 |  | "
   ]
  },
  {
   "cell_type": "code",
   "execution_count": null,
   "id": "515c2639",
   "metadata": {},
   "outputs": [],
   "source": [
    "# Asserting Inputs\n",
    "selALUOp.write(0, int(\"1101\", 2))\n",
    "A.write(0, int(\"f0c3a596\", 16))\n",
    "B.write(0, int(\"f0c3a596\", 16))\n",
    "\n",
    "\n",
    "# Recording Outputs\n",
    "save_and_print_test(19)"
   ]
  },
  {
   "cell_type": "markdown",
   "id": "ccdfa10f",
   "metadata": {},
   "source": [
    "## Test Case: 20\n",
    "\n",
    "| Signals | selALUOp | A | B | ALUOut | branch | Delay | TestNo | Note | \n",
    "|:----:|:----:|:----:|:----:|:----:|:----:|:----:|:----:|:----:|\n",
    "| Mode | in | in | in | out | out | None | None | None | \n",
    "| Radix | 4'b | 32'h | 32'h | 32'h | 1'b | None | None | None | \n",
    "|  | 1110 | f0c3a596 | 1f7e8ab4 | 00000009 | 0 | 1 | 21 | branch = 1 if uns A < uns B | "
   ]
  },
  {
   "cell_type": "code",
   "execution_count": null,
   "id": "5946c2bc",
   "metadata": {},
   "outputs": [],
   "source": [
    "# Asserting Inputs\n",
    "selALUOp.write(0, int(\"1110\", 2))\n",
    "A.write(0, int(\"f0c3a596\", 16))\n",
    "B.write(0, int(\"1f7e8ab4\", 16))\n",
    "\n",
    "\n",
    "# Recording Outputs\n",
    "save_and_print_test(20)"
   ]
  },
  {
   "cell_type": "markdown",
   "id": "7e2b84fb",
   "metadata": {},
   "source": [
    "## Test Case: 21\n",
    "\n",
    "| Signals | selALUOp | A | B | ALUOut | branch | Delay | TestNo | Note | \n",
    "|:----:|:----:|:----:|:----:|:----:|:----:|:----:|:----:|:----:|\n",
    "| Mode | in | in | in | out | out | None | None | None | \n",
    "| Radix | 4'b | 32'h | 32'h | 32'h | 1'b | None | None | None | \n",
    "|  | 1110 | f0c3a593 | f0c3a596 | 00000010 | 1 | 1 | 22 |  | "
   ]
  },
  {
   "cell_type": "code",
   "execution_count": null,
   "id": "c29bba62",
   "metadata": {},
   "outputs": [],
   "source": [
    "# Asserting Inputs\n",
    "selALUOp.write(0, int(\"1110\", 2))\n",
    "A.write(0, int(\"f0c3a593\", 16))\n",
    "B.write(0, int(\"f0c3a596\", 16))\n",
    "\n",
    "\n",
    "# Recording Outputs\n",
    "save_and_print_test(21)"
   ]
  },
  {
   "cell_type": "markdown",
   "id": "a868d0d5",
   "metadata": {},
   "source": [
    "## Test Case: 22\n",
    "\n",
    "| Signals | selALUOp | A | B | ALUOut | branch | Delay | TestNo | Note | \n",
    "|:----:|:----:|:----:|:----:|:----:|:----:|:----:|:----:|:----:|\n",
    "| Mode | in | in | in | out | out | None | None | None | \n",
    "| Radix | 4'b | 32'h | 32'h | 32'h | 1'b | None | None | None | \n",
    "|  | 1111 | f0c3a596 | 1f7e8ab4 | 00000011 | 1 | 1 | 23 | branch = 1 if uns A >= uns B | "
   ]
  },
  {
   "cell_type": "code",
   "execution_count": null,
   "id": "1bdedcb9",
   "metadata": {},
   "outputs": [],
   "source": [
    "# Asserting Inputs\n",
    "selALUOp.write(0, int(\"1111\", 2))\n",
    "A.write(0, int(\"f0c3a596\", 16))\n",
    "B.write(0, int(\"1f7e8ab4\", 16))\n",
    "\n",
    "\n",
    "# Recording Outputs\n",
    "save_and_print_test(22)"
   ]
  },
  {
   "cell_type": "markdown",
   "id": "dece1538",
   "metadata": {},
   "source": [
    "## Test Case: 23\n",
    "\n",
    "| Signals | selALUOp | A | B | ALUOut | branch | Delay | TestNo | Note | \n",
    "|:----:|:----:|:----:|:----:|:----:|:----:|:----:|:----:|:----:|\n",
    "| Mode | in | in | in | out | out | None | None | None | \n",
    "| Radix | 4'b | 32'h | 32'h | 32'h | 1'b | None | None | None | \n",
    "|  | 1111 | f0c3a596 | f0c3a596 | 00000012 | 1 | 1 | 24 |  | "
   ]
  },
  {
   "cell_type": "code",
   "execution_count": null,
   "id": "8297c6a1",
   "metadata": {},
   "outputs": [],
   "source": [
    "# Asserting Inputs\n",
    "selALUOp.write(0, int(\"1111\", 2))\n",
    "A.write(0, int(\"f0c3a596\", 16))\n",
    "B.write(0, int(\"f0c3a596\", 16))\n",
    "\n",
    "\n",
    "# Recording Outputs\n",
    "save_and_print_test(23)"
   ]
  }
 ],
 "metadata": {},
 "nbformat": 4,
 "nbformat_minor": 5
}
