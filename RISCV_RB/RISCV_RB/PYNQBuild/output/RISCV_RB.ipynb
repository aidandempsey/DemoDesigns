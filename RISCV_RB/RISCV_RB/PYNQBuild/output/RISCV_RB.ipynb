{
 "cells": [
  {
   "cell_type": "markdown",
   "id": "649034e2",
   "metadata": {},
   "source": [
    "# 32 x 32-bit Register Bank, with chip enable. Single synchronous write port, dual combinational read ports"
   ]
  },
  {
   "cell_type": "markdown",
   "id": "3112f718",
   "metadata": {},
   "source": [
    "#### Python Environment Set Up"
   ]
  },
  {
   "cell_type": "code",
   "execution_count": null,
   "id": "9ee5f365",
   "metadata": {},
   "outputs": [],
   "source": [
    "%run RISCV_RB.py"
   ]
  },
  {
   "cell_type": "markdown",
   "id": "061dc3f1",
   "metadata": {},
   "source": [
    "## Component Description\n",
    "\n",
    "if RWr = 1  &#10;      if rd  &gt; 0  &#10;        x(rd) = WBDat      synchronous write&#10;&#10;readReg dual combinational read ports&#10;rs1D = x(rs1)&#10;rs2D = x(rs2)&#10;&#10;Using CSArray in the HDLGen-ChatGPT project&#44; i.e&#44; CSArray(31:0)(31:0))&#10;&#10;&#10;rather than x(31:0)(31:0)"
   ]
  },
  {
   "cell_type": "markdown",
   "id": "d6fff12e",
   "metadata": {},
   "source": [
    "## Entity I/O\n",
    "\n",
    "| Name | Mode | Type | Description |\n",
    "|:----:|:----:|:----:|:------------|\n",
    "| RWr | in | single bit | Synchronous register write enable, high asserted |\n",
    "| rd | in | bus(4 downto 0) | Destination register address, address 0 - 31 |\n",
    "| rs1 | in | bus(4 downto 0) | Source register 1 address |\n",
    "| rs2 | in | bus(4 downto 0) | Source register 2 address |\n",
    "| rs1D | out | bus(31 downto 0) | Source register 1 data&#44; read combinationally |\n",
    "| rs2D | out | bus(31 downto 0) | Source register 2 data |\n",
    "| WBDat | in | bus(31 downto 0) | Writeback data. Selected datapath for RB writes. |\n",
    "| ce | in | single bit | Chip enable, asserted high |\n",
    "| clk | in | single bit | System clk strobe&#44; rising edge active |\n",
    "| rst | in | single bit | ASynchronous rst signal&#44; asserted h clear all registers immediately. |"
   ]
  },
  {
   "cell_type": "markdown",
   "id": "4331d7ba",
   "metadata": {},
   "source": [
    "## IO Visualised\n",
    "\n",
    "\n",
    "| PYNQ I/O | Component Signal |\n",
    "|:----:|:----:|\n",
    "| led0 | ce[0] |\n",
    "| led1 | clk[0] |\n",
    "| led2 | rst[0] |"
   ]
  },
  {
   "cell_type": "code",
   "execution_count": null,
   "id": "696d341e",
   "metadata": {},
   "outputs": [],
   "source": [
    "display(generate_io_gui())"
   ]
  },
  {
   "cell_type": "markdown",
   "id": "4b77dc35",
   "metadata": {},
   "source": [
    "## Component Controller"
   ]
  },
  {
   "cell_type": "code",
   "execution_count": null,
   "id": "16539307",
   "metadata": {},
   "outputs": [],
   "source": [
    "display(generate_gui(svg_content))"
   ]
  },
  {
   "cell_type": "markdown",
   "id": "281d536e",
   "metadata": {},
   "source": [
    "# Test Plan"
   ]
  },
  {
   "cell_type": "markdown",
   "id": "b996d589",
   "metadata": {},
   "source": [
    "| Signals | RWr | rd | rs1 | rs2 | WBDat | ce | rs1D | rs2D | Delay | TestNo | Note | \n",
    "|:----:|:----:|:----:|:----:|:----:|:----:|:----:|:----:|:----:|:----:|:----:|:----:|\n",
    "| Mode | in | in | in | in | in | in | out | out | None | None | None | \n",
    "| Radix | 1'b | 5'h | 5'h | 5'h | 32'h | 1'b | 32'h | 32'h | None | None | None | \n",
    "|  | 1 | 00100 | 00100 | 00100 | deadbeef | 1 | deadbeef | deadbeef | 1 | 1 | Note for test number 1 | \n",
    "|  | 1 | 00101 | 00100 | 00101 | c001cafe | 1 | deadbeef | c001cafe | 1 | 2 | Note for test number 2 | \n",
    "|  | 1 | 00110 | 00110 | 00100 | f00dcafe | 1 | f00dcafe | deadbeef | 1 | 3 | Note for test number 3 | \n",
    "|  | 1 | 00110 | 00110 | 00110 | a5a5a5a5 | 1 | f00dcafe | f00dcafe | 0.1 | 4 | Note for test number 1 | \n",
    "|  | 1 | 00110 | 00110 | 00101 | a5a5a5a5 | 1 | a5a5a5a5 | c001cafe | 0.9 | 5 | Note for test number 2 | \n",
    "|  | 1 | 11111 | 11111 | 00110 | 3c3c3c3c | 1 | 3c3c3c3c | a5a5a5a5 | 3 | 6 | Note for test number 3 | \n",
    "|  | 1 | 00000 | 11111 | 00000 | 5a5a5a5a | 1 | 3c3c3c3c | 00000000 | 3 | 7 | Note for test number 1 | \n",
    "|  | 1 | 00100 | 00100 | 11111 | c001100c | 0 | deadbeef | 3c3c3c3c | 1 | 8 | Note for test number 2 | \n",
    "|  | 1 | 00100 | 00100 | 00100 | c001100c | 1 | c001100c | c001100c | 1 | 9 | Note for test number 3 | \n",
    "|  | 0 | 00110 | 00110 | 00110 | ffffffff | 1 | a5a5a5a5 | a5a5a5a5 | 1 | 10 | Note for test number 1 | \n",
    "|  | 1 | 00001 | 00001 | 00001 | ffffffff | 1 | ffffffff | ffffffff | 1 | 11 | Note for test number 2 | "
   ]
  },
  {
   "cell_type": "markdown",
   "id": "fa9468a9",
   "metadata": {},
   "source": [
    "## Test Case: 0\n",
    "\n",
    "| Signals | RWr | rd | rs1 | rs2 | WBDat | ce | rs1D | rs2D | Delay | TestNo | Note | \n",
    "|:----:|:----:|:----:|:----:|:----:|:----:|:----:|:----:|:----:|:----:|:----:|:----:|\n",
    "| Mode | in | in | in | in | in | in | out | out | None | None | None | \n",
    "| Radix | 1'b | 5'h | 5'h | 5'h | 32'h | 1'b | 32'h | 32'h | None | None | None | \n",
    "|  | 1 | 00100 | 00100 | 00100 | deadbeef | 1 | deadbeef | deadbeef | 1 | 1 | Note for test number 1 | "
   ]
  },
  {
   "cell_type": "code",
   "execution_count": null,
   "id": "206c9dd1",
   "metadata": {},
   "outputs": [],
   "source": [
    "# Asserting Inputs\n",
    "RWr.write(0, int(\"1\", 2))\n",
    "rd.write(0, int(\"00100\", 16))\n",
    "rs1.write(0, int(\"00100\", 16))\n",
    "rs2.write(0, int(\"00100\", 16))\n",
    "WBDat.write(0, int(\"deadbeef\", 16))\n",
    "ce.write(0, int(\"1\", 2))\n",
    "\n",
    "run_clock_pulse()\n",
    "\n",
    "# Recording Outputs\n",
    "save_and_print_test(0)"
   ]
  },
  {
   "cell_type": "markdown",
   "id": "0fbe2d01",
   "metadata": {},
   "source": [
    "## Test Case: 1\n",
    "\n",
    "| Signals | RWr | rd | rs1 | rs2 | WBDat | ce | rs1D | rs2D | Delay | TestNo | Note | \n",
    "|:----:|:----:|:----:|:----:|:----:|:----:|:----:|:----:|:----:|:----:|:----:|:----:|\n",
    "| Mode | in | in | in | in | in | in | out | out | None | None | None | \n",
    "| Radix | 1'b | 5'h | 5'h | 5'h | 32'h | 1'b | 32'h | 32'h | None | None | None | \n",
    "|  | 1 | 00101 | 00100 | 00101 | c001cafe | 1 | deadbeef | c001cafe | 1 | 2 | Note for test number 2 | "
   ]
  },
  {
   "cell_type": "code",
   "execution_count": null,
   "id": "d72c544d",
   "metadata": {},
   "outputs": [],
   "source": [
    "# Asserting Inputs\n",
    "RWr.write(0, int(\"1\", 2))\n",
    "rd.write(0, int(\"00101\", 16))\n",
    "rs1.write(0, int(\"00100\", 16))\n",
    "rs2.write(0, int(\"00101\", 16))\n",
    "WBDat.write(0, int(\"c001cafe\", 16))\n",
    "ce.write(0, int(\"1\", 2))\n",
    "\n",
    "run_clock_pulse()\n",
    "\n",
    "# Recording Outputs\n",
    "save_and_print_test(1)"
   ]
  },
  {
   "cell_type": "markdown",
   "id": "a9ce49eb",
   "metadata": {},
   "source": [
    "## Test Case: 2\n",
    "\n",
    "| Signals | RWr | rd | rs1 | rs2 | WBDat | ce | rs1D | rs2D | Delay | TestNo | Note | \n",
    "|:----:|:----:|:----:|:----:|:----:|:----:|:----:|:----:|:----:|:----:|:----:|:----:|\n",
    "| Mode | in | in | in | in | in | in | out | out | None | None | None | \n",
    "| Radix | 1'b | 5'h | 5'h | 5'h | 32'h | 1'b | 32'h | 32'h | None | None | None | \n",
    "|  | 1 | 00110 | 00110 | 00100 | f00dcafe | 1 | f00dcafe | deadbeef | 1 | 3 | Note for test number 3 | "
   ]
  },
  {
   "cell_type": "code",
   "execution_count": null,
   "id": "dc0d9477",
   "metadata": {},
   "outputs": [],
   "source": [
    "# Asserting Inputs\n",
    "RWr.write(0, int(\"1\", 2))\n",
    "rd.write(0, int(\"00110\", 16))\n",
    "rs1.write(0, int(\"00110\", 16))\n",
    "rs2.write(0, int(\"00100\", 16))\n",
    "WBDat.write(0, int(\"f00dcafe\", 16))\n",
    "ce.write(0, int(\"1\", 2))\n",
    "\n",
    "run_clock_pulse()\n",
    "\n",
    "# Recording Outputs\n",
    "save_and_print_test(2)"
   ]
  },
  {
   "cell_type": "markdown",
   "id": "37e8eea7",
   "metadata": {},
   "source": [
    "## Test Case: 3\n",
    "\n",
    "| Signals | RWr | rd | rs1 | rs2 | WBDat | ce | rs1D | rs2D | Delay | TestNo | Note | \n",
    "|:----:|:----:|:----:|:----:|:----:|:----:|:----:|:----:|:----:|:----:|:----:|:----:|\n",
    "| Mode | in | in | in | in | in | in | out | out | None | None | None | \n",
    "| Radix | 1'b | 5'h | 5'h | 5'h | 32'h | 1'b | 32'h | 32'h | None | None | None | \n",
    "|  | 1 | 00110 | 00110 | 00110 | a5a5a5a5 | 1 | f00dcafe | f00dcafe | 0.1 | 4 | Note for test number 1 | "
   ]
  },
  {
   "cell_type": "code",
   "execution_count": null,
   "id": "13bca39b",
   "metadata": {},
   "outputs": [],
   "source": [
    "# Asserting Inputs\n",
    "RWr.write(0, int(\"1\", 2))\n",
    "rd.write(0, int(\"00110\", 16))\n",
    "rs1.write(0, int(\"00110\", 16))\n",
    "rs2.write(0, int(\"00110\", 16))\n",
    "WBDat.write(0, int(\"a5a5a5a5\", 16))\n",
    "ce.write(0, int(\"1\", 2))\n",
    "\n",
    "\n",
    "# Recording Outputs\n",
    "save_and_print_test(3)"
   ]
  },
  {
   "cell_type": "markdown",
   "id": "59d289b2",
   "metadata": {},
   "source": [
    "## Test Case: 4\n",
    "\n",
    "| Signals | RWr | rd | rs1 | rs2 | WBDat | ce | rs1D | rs2D | Delay | TestNo | Note | \n",
    "|:----:|:----:|:----:|:----:|:----:|:----:|:----:|:----:|:----:|:----:|:----:|:----:|\n",
    "| Mode | in | in | in | in | in | in | out | out | None | None | None | \n",
    "| Radix | 1'b | 5'h | 5'h | 5'h | 32'h | 1'b | 32'h | 32'h | None | None | None | \n",
    "|  | 1 | 00110 | 00110 | 00101 | a5a5a5a5 | 1 | a5a5a5a5 | c001cafe | 0.9 | 5 | Note for test number 2 | "
   ]
  },
  {
   "cell_type": "code",
   "execution_count": null,
   "id": "0f21c43e",
   "metadata": {},
   "outputs": [],
   "source": [
    "# Asserting Inputs\n",
    "RWr.write(0, int(\"1\", 2))\n",
    "rd.write(0, int(\"00110\", 16))\n",
    "rs1.write(0, int(\"00110\", 16))\n",
    "rs2.write(0, int(\"00101\", 16))\n",
    "WBDat.write(0, int(\"a5a5a5a5\", 16))\n",
    "ce.write(0, int(\"1\", 2))\n",
    "\n",
    "run_clock_pulse()\n",
    "\n",
    "# Recording Outputs\n",
    "save_and_print_test(4)"
   ]
  },
  {
   "cell_type": "markdown",
   "id": "0f4c3d38",
   "metadata": {},
   "source": [
    "## Test Case: 5\n",
    "\n",
    "| Signals | RWr | rd | rs1 | rs2 | WBDat | ce | rs1D | rs2D | Delay | TestNo | Note | \n",
    "|:----:|:----:|:----:|:----:|:----:|:----:|:----:|:----:|:----:|:----:|:----:|:----:|\n",
    "| Mode | in | in | in | in | in | in | out | out | None | None | None | \n",
    "| Radix | 1'b | 5'h | 5'h | 5'h | 32'h | 1'b | 32'h | 32'h | None | None | None | \n",
    "|  | 1 | 11111 | 11111 | 00110 | 3c3c3c3c | 1 | 3c3c3c3c | a5a5a5a5 | 3 | 6 | Note for test number 3 | "
   ]
  },
  {
   "cell_type": "code",
   "execution_count": null,
   "id": "87a136ec",
   "metadata": {},
   "outputs": [],
   "source": [
    "# Asserting Inputs\n",
    "RWr.write(0, int(\"1\", 2))\n",
    "rd.write(0, int(\"11111\", 16))\n",
    "rs1.write(0, int(\"11111\", 16))\n",
    "rs2.write(0, int(\"00110\", 16))\n",
    "WBDat.write(0, int(\"3c3c3c3c\", 16))\n",
    "ce.write(0, int(\"1\", 2))\n",
    "\n",
    "run_clock_pulse()\n",
    "run_clock_pulse()\n",
    "run_clock_pulse()\n",
    "\n",
    "# Recording Outputs\n",
    "save_and_print_test(5)"
   ]
  },
  {
   "cell_type": "markdown",
   "id": "7b174568",
   "metadata": {},
   "source": [
    "## Test Case: 6\n",
    "\n",
    "| Signals | RWr | rd | rs1 | rs2 | WBDat | ce | rs1D | rs2D | Delay | TestNo | Note | \n",
    "|:----:|:----:|:----:|:----:|:----:|:----:|:----:|:----:|:----:|:----:|:----:|:----:|\n",
    "| Mode | in | in | in | in | in | in | out | out | None | None | None | \n",
    "| Radix | 1'b | 5'h | 5'h | 5'h | 32'h | 1'b | 32'h | 32'h | None | None | None | \n",
    "|  | 1 | 00000 | 11111 | 00000 | 5a5a5a5a | 1 | 3c3c3c3c | 00000000 | 3 | 7 | Note for test number 1 | "
   ]
  },
  {
   "cell_type": "code",
   "execution_count": null,
   "id": "decdeba5",
   "metadata": {},
   "outputs": [],
   "source": [
    "# Asserting Inputs\n",
    "RWr.write(0, int(\"1\", 2))\n",
    "rd.write(0, int(\"00000\", 16))\n",
    "rs1.write(0, int(\"11111\", 16))\n",
    "rs2.write(0, int(\"00000\", 16))\n",
    "WBDat.write(0, int(\"5a5a5a5a\", 16))\n",
    "ce.write(0, int(\"1\", 2))\n",
    "\n",
    "run_clock_pulse()\n",
    "run_clock_pulse()\n",
    "run_clock_pulse()\n",
    "\n",
    "# Recording Outputs\n",
    "save_and_print_test(6)"
   ]
  },
  {
   "cell_type": "markdown",
   "id": "0059fc70",
   "metadata": {},
   "source": [
    "## Test Case: 7\n",
    "\n",
    "| Signals | RWr | rd | rs1 | rs2 | WBDat | ce | rs1D | rs2D | Delay | TestNo | Note | \n",
    "|:----:|:----:|:----:|:----:|:----:|:----:|:----:|:----:|:----:|:----:|:----:|:----:|\n",
    "| Mode | in | in | in | in | in | in | out | out | None | None | None | \n",
    "| Radix | 1'b | 5'h | 5'h | 5'h | 32'h | 1'b | 32'h | 32'h | None | None | None | \n",
    "|  | 1 | 00100 | 00100 | 11111 | c001100c | 0 | deadbeef | 3c3c3c3c | 1 | 8 | Note for test number 2 | "
   ]
  },
  {
   "cell_type": "code",
   "execution_count": null,
   "id": "98d42d4b",
   "metadata": {},
   "outputs": [],
   "source": [
    "# Asserting Inputs\n",
    "RWr.write(0, int(\"1\", 2))\n",
    "rd.write(0, int(\"00100\", 16))\n",
    "rs1.write(0, int(\"00100\", 16))\n",
    "rs2.write(0, int(\"11111\", 16))\n",
    "WBDat.write(0, int(\"c001100c\", 16))\n",
    "ce.write(0, int(\"0\", 2))\n",
    "\n",
    "run_clock_pulse()\n",
    "\n",
    "# Recording Outputs\n",
    "save_and_print_test(7)"
   ]
  },
  {
   "cell_type": "markdown",
   "id": "4b699732",
   "metadata": {},
   "source": [
    "## Test Case: 8\n",
    "\n",
    "| Signals | RWr | rd | rs1 | rs2 | WBDat | ce | rs1D | rs2D | Delay | TestNo | Note | \n",
    "|:----:|:----:|:----:|:----:|:----:|:----:|:----:|:----:|:----:|:----:|:----:|:----:|\n",
    "| Mode | in | in | in | in | in | in | out | out | None | None | None | \n",
    "| Radix | 1'b | 5'h | 5'h | 5'h | 32'h | 1'b | 32'h | 32'h | None | None | None | \n",
    "|  | 1 | 00100 | 00100 | 00100 | c001100c | 1 | c001100c | c001100c | 1 | 9 | Note for test number 3 | "
   ]
  },
  {
   "cell_type": "code",
   "execution_count": null,
   "id": "55a03cc7",
   "metadata": {},
   "outputs": [],
   "source": [
    "# Asserting Inputs\n",
    "RWr.write(0, int(\"1\", 2))\n",
    "rd.write(0, int(\"00100\", 16))\n",
    "rs1.write(0, int(\"00100\", 16))\n",
    "rs2.write(0, int(\"00100\", 16))\n",
    "WBDat.write(0, int(\"c001100c\", 16))\n",
    "ce.write(0, int(\"1\", 2))\n",
    "\n",
    "run_clock_pulse()\n",
    "\n",
    "# Recording Outputs\n",
    "save_and_print_test(8)"
   ]
  },
  {
   "cell_type": "markdown",
   "id": "beb6c78e",
   "metadata": {},
   "source": [
    "## Test Case: 9\n",
    "\n",
    "| Signals | RWr | rd | rs1 | rs2 | WBDat | ce | rs1D | rs2D | Delay | TestNo | Note | \n",
    "|:----:|:----:|:----:|:----:|:----:|:----:|:----:|:----:|:----:|:----:|:----:|:----:|\n",
    "| Mode | in | in | in | in | in | in | out | out | None | None | None | \n",
    "| Radix | 1'b | 5'h | 5'h | 5'h | 32'h | 1'b | 32'h | 32'h | None | None | None | \n",
    "|  | 0 | 00110 | 00110 | 00110 | ffffffff | 1 | a5a5a5a5 | a5a5a5a5 | 1 | 10 | Note for test number 1 | "
   ]
  },
  {
   "cell_type": "code",
   "execution_count": null,
   "id": "b4d14ad9",
   "metadata": {},
   "outputs": [],
   "source": [
    "# Asserting Inputs\n",
    "RWr.write(0, int(\"0\", 2))\n",
    "rd.write(0, int(\"00110\", 16))\n",
    "rs1.write(0, int(\"00110\", 16))\n",
    "rs2.write(0, int(\"00110\", 16))\n",
    "WBDat.write(0, int(\"ffffffff\", 16))\n",
    "ce.write(0, int(\"1\", 2))\n",
    "\n",
    "run_clock_pulse()\n",
    "\n",
    "# Recording Outputs\n",
    "save_and_print_test(9)"
   ]
  },
  {
   "cell_type": "markdown",
   "id": "1b8b5819",
   "metadata": {},
   "source": [
    "## Test Case: 10\n",
    "\n",
    "| Signals | RWr | rd | rs1 | rs2 | WBDat | ce | rs1D | rs2D | Delay | TestNo | Note | \n",
    "|:----:|:----:|:----:|:----:|:----:|:----:|:----:|:----:|:----:|:----:|:----:|:----:|\n",
    "| Mode | in | in | in | in | in | in | out | out | None | None | None | \n",
    "| Radix | 1'b | 5'h | 5'h | 5'h | 32'h | 1'b | 32'h | 32'h | None | None | None | \n",
    "|  | 1 | 00001 | 00001 | 00001 | ffffffff | 1 | ffffffff | ffffffff | 1 | 11 | Note for test number 2 | "
   ]
  },
  {
   "cell_type": "code",
   "execution_count": null,
   "id": "1605df81",
   "metadata": {},
   "outputs": [],
   "source": [
    "# Asserting Inputs\n",
    "RWr.write(0, int(\"1\", 2))\n",
    "rd.write(0, int(\"00001\", 16))\n",
    "rs1.write(0, int(\"00001\", 16))\n",
    "rs2.write(0, int(\"00001\", 16))\n",
    "WBDat.write(0, int(\"ffffffff\", 16))\n",
    "ce.write(0, int(\"1\", 2))\n",
    "\n",
    "run_clock_pulse()\n",
    "\n",
    "# Recording Outputs\n",
    "save_and_print_test(10)"
   ]
  }
 ],
 "metadata": {},
 "nbformat": 4,
 "nbformat_minor": 5
}
