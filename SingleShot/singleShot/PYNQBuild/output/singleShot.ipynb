{
 "cells": [
  {
   "cell_type": "markdown",
   "id": "ff48eff8",
   "metadata": {},
   "source": [
    "# Pulse generator, one clock period duration"
   ]
  },
  {
   "cell_type": "markdown",
   "id": "07cc1fd6",
   "metadata": {},
   "source": [
    "#### Python Environment Set Up"
   ]
  },
  {
   "cell_type": "code",
   "execution_count": null,
   "id": "63992b13",
   "metadata": {},
   "outputs": [],
   "source": [
    "%run singleShot.py"
   ]
  },
  {
   "cell_type": "markdown",
   "id": "35783cad",
   "metadata": {},
   "source": [
    "## Component Description\n",
    "\n",
    "One clock period duration pulse aShot asserted (h) when sw is asserted (h).&#10;aShot deasserted on subsequent clk active (l-h) edge.&#10;If rst asserted while sw is asserted&#44; wait for sw to deassert before generating aShot &#10;pulse on next rising edge on sw"
   ]
  },
  {
   "cell_type": "markdown",
   "id": "019d975c",
   "metadata": {},
   "source": [
    "## Entity I/O\n",
    "\n",
    "| Name | Mode | Type | Description |\n",
    "|:----:|:----:|:----:|:------------|\n",
    "| sw | in | single bit | Assertion L-H edge asserts signal aShot. Signal sw must &#10;deassert before reassertion to genersate the subsequent &#10;aShot pulse. |\n",
    "| aShot | out | single bit | Asserted on L-H edge of signal sw. Deasserts on subsequent &#10;active clk edge. Asserted for maximum one clock period. |\n",
    "| clk | in | single bit | clk signal |\n",
    "| rst | in | single bit | rst signal |"
   ]
  },
  {
   "cell_type": "markdown",
   "id": "89f702b6",
   "metadata": {},
   "source": [
    "## Component Controller"
   ]
  },
  {
   "cell_type": "code",
   "execution_count": null,
   "id": "755f5b5c",
   "metadata": {},
   "outputs": [],
   "source": [
    "display(generate_gui(svg_content))"
   ]
  }
 ],
 "metadata": {},
 "nbformat": 4,
 "nbformat_minor": 5
}
